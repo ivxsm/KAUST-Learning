{
  "cells": [
    {
      "cell_type": "markdown",
      "metadata": {},
      "source": [
        "# Notebook Setup"
      ]
    },
    {
      "cell_type": "code",
      "execution_count": 1,
      "metadata": {
        "id": "HKSL__IwozZs"
      },
      "outputs": [],
      "source": [
        "from IPython.display import clear_output\n",
        "\n",
        "# Download the required libraries (needed when running outside colab where the environment doesn't come pre-loaded with libraries)\n",
        "\n",
        "%pip install torch\n",
        "%pip install matplotlib\n",
        "%pip install torchvision\n",
        "%pip install tqdm\n",
        "\n",
        "clear_output()"
      ]
    },
    {
      "cell_type": "code",
      "execution_count": 2,
      "metadata": {
        "id": "xziZ2Kj1pZrq"
      },
      "outputs": [],
      "source": [
        "import torch\n",
        "\n",
        "import torch.nn as nn\n",
        "\n",
        "from torchvision.datasets import MNIST\n",
        "from torch.utils.data import DataLoader, Subset\n",
        "from torch.optim import Adam\n",
        "\n",
        "from torchvision.transforms.functional import to_tensor\n",
        "\n",
        "import matplotlib.pyplot as plt\n",
        "from tqdm import tqdm\n",
        "import numpy as np"
      ]
    },
    {
      "cell_type": "code",
      "execution_count": 3,
      "metadata": {},
      "outputs": [],
      "source": [
        "%matplotlib inline\n",
        "\n",
        "plt.style.use(\"bmh\")\n",
        "plt.rcParams.update({\n",
        "    \"figure.figsize\" : (12, 8),\n",
        "    \"axes.facecolor\" : \"white\",\n",
        "    \"axes.edgecolor\":  \"black\"\n",
        "    })\n",
        "\n",
        "# plt.style.use('dark_background')"
      ]
    },
    {
      "cell_type": "code",
      "execution_count": 4,
      "metadata": {},
      "outputs": [],
      "source": [
        "def show_images(images, labels, ncols=4, nrows=2):\n",
        "    fig, axes = plt.subplots(nrows, ncols, figsize=(10, 4))\n",
        "    \n",
        "    # get an appropriate number of images\n",
        "    images = images[:ncols * nrows]\n",
        "\n",
        "    for i, (image, label) in enumerate(zip(images, labels)):\n",
        "        ax = axes[i // ncols, i % ncols]\n",
        "        image = image.reshape(28, 28)\n",
        "        ax.imshow(image, cmap='gray')\n",
        "        ax.set_title(label)\n",
        "        ax.axis('off')\n",
        "    plt.show()"
      ]
    },
    {
      "cell_type": "markdown",
      "metadata": {
        "id": "1tH9YmdSAW7i"
      },
      "source": [
        "# Contents:\n",
        "\n",
        "1. Implementation of 1-2 layer NN fin pytorch which classifies MNIST dataset\n",
        "\n",
        "About MNIST:\n",
        "\n",
        "the dataset consists of images of 28x28 size. The image each contains a handwritten digit from 0 to 9. Our model needs to take this image and classify it to the correct digit.\n",
        "\n",
        "\n",
        "You need to know:\n",
        "\n",
        "1. **pytorch** (for impelementation)\n",
        "2. a little bit of **matplotlib** (for visualization)\n",
        "\n",
        "\n",
        "Good to have knowledge of:\n",
        "\n",
        "1. torch dataset and dataloader"
      ]
    },
    {
      "cell_type": "code",
      "execution_count": 5,
      "metadata": {
        "id": "ZTqeY0V6pV3T"
      },
      "outputs": [],
      "source": [
        "# Load the full datasets\n",
        "train_data = MNIST(root='./datasets', train=True, download=True, transform=to_tensor)\n",
        "test_data = MNIST(root='./datasets', train=False, download=True, transform=to_tensor)\n",
        "\n",
        "# Define the subset size\n",
        "subset_size = ______ # images\n",
        "\n",
        "# Generate a random subset of indices for the training data\n",
        "subset_indices = np.random.choice(len(train_data), subset_size, replace=False)\n",
        "\n",
        "# Create the subset using torch.utils.data.Subset\n",
        "train_subset = Subset(train_data, subset_indices)"
      ]
    },
    {
      "cell_type": "code",
      "execution_count": 6,
      "metadata": {
        "id": "PWmnHXbSr9Al"
      },
      "outputs": [],
      "source": [
        "batch_size = __\n",
        "\n",
        "# Dataloaders are used to easily create batches of data so we can perform batch gradient descent for faster learning\n",
        "train_loader = DataLoader(train_data, batch_size=batch_size)\n",
        "test_loader = DataLoader(test_data, batch_size=batch_size)"
      ]
    },
    {
      "cell_type": "code",
      "execution_count": 7,
      "metadata": {},
      "outputs": [
        {
          "data": {
            "image/png": "[encoded data removed]",
            "text/plain": [
              "<Figure size 1000x400 with 8 Axes>"
            ]
          },
          "metadata": {},
          "output_type": "display_data"
        }
      ],
      "source": [
        "# Displaying a few images from the training dataset to confirm correct loading.\n",
        "# The labels correspond to the digits (0-9) represented in the images.\n",
        "\n",
        "sample_data, sample_labels = next(iter(train_loader))\n",
        "sample_data, sample_labels = sample_data.numpy(), sample_labels.numpy()  # Convert to NumPy format for visualization\n",
        "\n",
        "show_images(sample_data, sample_labels)"
      ]
    },
    {
      "cell_type": "markdown",
      "metadata": {
        "id": "9aQrW8JC0HBo"
      },
      "source": [
        "## Models\n",
        "\n",
        "let's create the architecture of our models\n",
        "\n",
        "Instead of sigmoid activation, we'll use softmax activation\n",
        "\n",
        "The difference is:\n",
        "- sigmoid brings each value in the range 0-1\n",
        "- softmax takes a vector and changes the value into probabilities: i.e the sum of those values = 1. The highest value in the original vector retains the highest value in softmax output\n",
        "\n",
        "Here's the formula for softmax:\n",
        "\n",
        "$$\n",
        "\\text{Softmax}(x)_i = \\frac{e^{x_i}}{\\sum_{j} e^{x_j}}\n",
        "$$"
      ]
    },
    {
      "cell_type": "markdown",
      "metadata": {},
      "source": [
        "### Activation Functions\n",
        "Activation functions introduce non-linearity into the network. We'll use:\n",
        "- **ReLU** (Rectified Linear Unit): For the hidden layer, to capture non-linear relationships.\n",
        "- **Softmax**: For the output layer, to convert raw scores into probabilities."
      ]
    },
    {
      "cell_type": "code",
      "execution_count": 8,
      "metadata": {
        "id": "CXfUV5ZLzGKa"
      },
      "outputs": [],
      "source": [
        "# Define a single-layer neural network\n",
        "class NN1Layer(nn.Module):\n",
        "\n",
        "    def __init__(self, num_inp, num_out):\n",
        "        super(NN1Layer, self).__init__()\n",
        "        \n",
        "        # Define a single fully connected layer\n",
        "        self.layer_1 = nn.Linear(num_inp, num_out)\n",
        "        self.softmax = nn.Softmax(dim=1)  # Apply softmax along the feature dimension (dim=1) to get probabilities\n",
        "\n",
        "    def forward(self, x):\n",
        "        # Forward pass: Apply the single layer and softmax activation\n",
        "        z = self.layer_1(x)  # Linear transformation\n",
        "        a = self.softmax(z)  # Convert logits to probabilities\n",
        "        \n",
        "        return a\n",
        "\n",
        "\n",
        "# Define a two-layer neural network\n",
        "class NN2Layer(nn.Module):\n",
        "\n",
        "    def __init__(self, num_inp, num_hidden, num_out):\n",
        "        super(NN2Layer, self).__init__()\n",
        "        \n",
        "        # Define two fully connected layers\n",
        "        self.layer_1 = _____________________________  # First layer with input size and hidden layer size\n",
        "        self.layer_2 = _____________________________  # Second layer with hidden layer size and output size\n",
        "        \n",
        "        # Define activation functions\n",
        "        self.hidden_activation = nn.ReLU()  # ReLU activation function for hidden layer\n",
        "        self.softmax = nn.Softmax(dim=1)  # Softmax activation for output layer (dim=1 for feature dimension)\n",
        "\n",
        "    def forward(self, x):\n",
        "        # Forward pass through the two-layer network\n",
        "        z1 = self.layer_1(x)  # Linear transformation: input to hidden layer\n",
        "        a1 = self.hidden_activation(z1)  # Apply ReLU activation\n",
        "        \n",
        "        z2 = self.layer_2(a1)  # Linear transformation: hidden to output layer\n",
        "        a2 = self.softmax(z2)  # Apply softmax to get probabilities\n",
        "        \n",
        "        return a2"
      ]
    },
    {
      "cell_type": "markdown",
      "metadata": {
        "id": "8u_e7ldrtHh1"
      },
      "source": [
        "## The main training loop, with batch gradient descent.\n",
        "\n"
      ]
    },
    {
      "cell_type": "markdown",
      "metadata": {
        "id": "KhSQZRw36s0k"
      },
      "source": [
        "Declare model, it's params, optimizers and criterion etc\n",
        "\n",
        "We'll also declare a device here. This will let us use GPU\n",
        "you can see how much difference a GPU makes by changing the device param to cpu and cuda"
      ]
    },
    {
      "cell_type": "code",
      "execution_count": 9,
      "metadata": {
        "colab": {
          "base_uri": "https://localhost:8080/"
        },
        "id": "TCMTZkue74nL",
        "outputId": "0033c29d-194b-477c-be0d-a21a2cd8ea7f"
      },
      "outputs": [
        {
          "name": "stdout",
          "output_type": "stream",
          "text": [
            "Using device cpu\n"
          ]
        }
      ],
      "source": [
        "num_epochs = 12\n",
        "lr = 1e-4\n",
        "\n",
        "ni = __ * __\n",
        "nh = __\n",
        "no = __\n",
        "\n",
        "# model = NN1Layer(ni, no)       # 28*28 because that's the input side. 10 because that's the numbber of classes (0-9)\n",
        "model = NN2Layer(ni, nh, no)     # The 2 layer one is equivalent to the one we implemented in numpy\n",
        "\n",
        "optimizer = Adam(model.parameters(), lr=lr)\n",
        "criterion = nn.CrossEntropyLoss()   # multi-class\n",
        "\n",
        "device = 'cuda' if torch.cuda.is_available() else 'cpu'  # checks if machine supports cuda and if it does, we use that, otherwise cpu\n",
        "\n",
        "model.to(device)  # we need to send all input tensors as well as our model to this device. by default they are on cpu\n",
        "\n",
        "print(f'Using device {device}')\n",
        "\n",
        "train_losses = []\n",
        "val_losses = []\n",
        "accuracies = []"
      ]
    },
    {
      "cell_type": "markdown",
      "metadata": {
        "id": "4r4KeFeG8mF4"
      },
      "source": [
        "### Pre-train performance\n",
        "\n",
        "Question: \n",
        " - What do you think the accuracy of our model?s"
      ]
    },
    {
      "cell_type": "code",
      "execution_count": 10,
      "metadata": {
        "colab": {
          "base_uri": "https://localhost:8080/"
        },
        "id": "h-qDqF6f8oIp",
        "outputId": "ed76a846-1299-475d-fb8f-69517e69c9b3"
      },
      "outputs": [
        {
          "name": "stdout",
          "output_type": "stream",
          "text": [
            "validation loss = 2.3033735557556154. labeled 664/10000 correctly (6.64% accuracy)\n"
          ]
        }
      ],
      "source": [
        "model.eval()\n",
        "correctly_labelled = 0\n",
        "\n",
        "with torch.no_grad():\n",
        "\n",
        "\tval_epoch_weighted_loss = 0\n",
        "\n",
        "\tfor val_batch_X, val_batch_y in test_loader:\n",
        "\n",
        "\t\tval_batch_X = val_batch_X.view(-1, 28*28).to(device)\n",
        "\t\tval_batch_y = val_batch_y.to(device)\n",
        "\n",
        "\t\tval_batch_y_probs = model(val_batch_X)\n",
        "\n",
        "\t\tloss = criterion(val_batch_y_probs, val_batch_y)\n",
        "\t\tval_epoch_weighted_loss += (len(val_batch_y)*loss.item())\n",
        "\n",
        "\t\t# convert probailities to labels by picking the label (index) with the highest prob\n",
        "\t\tval_batch_y_pred = val_batch_y_probs.argmax(dim=1)  \n",
        "\n",
        "\t\tcorrectly_labelled += (val_batch_y_pred == val_batch_y).sum().item()  # item converts tensor to float/int/list\n",
        "\n",
        "val_epoch_loss = val_epoch_weighted_loss/len(test_loader.dataset)\n",
        "val_losses.append(val_epoch_loss)\n",
        "\n",
        "print(f'validation loss = {val_epoch_loss}. labeled {correctly_labelled}/{len(test_loader.dataset)} correctly ({correctly_labelled/len(test_loader.dataset)*100}% accuracy)')"
      ]
    },
    {
      "cell_type": "markdown",
      "metadata": {
        "id": "bZzBFOA48Fb7"
      },
      "source": [
        "### Training the model"
      ]
    },
    {
      "cell_type": "code",
      "execution_count": 11,
      "metadata": {
        "colab": {
          "base_uri": "https://localhost:8080/"
        },
        "id": "sy0ChPzH7_wx",
        "outputId": "3a5ba8e6-7a29-4c18-83fc-fcb7dcff67bf"
      },
      "outputs": [
        {
          "data": {
            "image/png": "[encoded data removed]",
            "text/plain": [
              "<Figure size 1200x400 with 2 Axes>"
            ]
          },
          "metadata": {},
          "output_type": "display_data"
        },
        {
          "name": "stderr",
          "output_type": "stream",
          "text": [
            "Training: 100%|\u001b[32m██████████\u001b[0m| 12/12 [00:25<00:00,  2.16s/Epochs, Train Loss=1.54, Validation Loss=1.54, Validation Accuracy=92.9]"
          ]
        },
        {
          "name": "stdout",
          "output_type": "stream",
          "text": [
            "Training complete on device cpu. Change device variable and run again to see the difference.\n"
          ]
        },
        {
          "name": "stderr",
          "output_type": "stream",
          "text": [
            "\n"
          ]
        }
      ],
      "source": [
        "fig, (ax_loss, ax_acc) = plt.subplots(1, 2, figsize=(12, 4))  # Create a figure with two subplots\n",
        "dh = display(fig, display_id=True)  # Dynamically display the plot\n",
        "\n",
        "with tqdm(total=num_epochs, desc='Training', unit='Epochs', colour='Green') as pbar:  # Progress bar for tracking epochs\n",
        "    for epoch_no in range(num_epochs):  # Loop through the specified number of epochs\n",
        "\n",
        "        model.train()  # Switch model to training mode\n",
        "\n",
        "        epoch_weighted_loss = 0  # Initialize the epoch loss accumulator\n",
        "\n",
        "        for batch_X, batch_y in train_loader:  # Loop through training data batches\n",
        "\n",
        "            # Preprocess input batch\n",
        "            batch_X = batch_X.view(-1, ni).to(device)  # Flatten input images to vectors and move to device\n",
        "            batch_y = batch_y.to(device)  # Move labels to the same device as the model\n",
        "\n",
        "            # Forward pass: Get probabilities for each class\n",
        "            batch_y_probs = model(batch_X)  # Outputs shape [N, 10], where N is batch size and 10 is class count\n",
        "\n",
        "            # Compute loss for the batch\n",
        "            loss = criterion(batch_y_probs, batch_y)\n",
        "\n",
        "            optimizer.zero_grad()  # Clear gradients from the previous batch\n",
        "            loss.backward()  # Backward pass to calculate gradients\n",
        "            optimizer.step()  # Update model weights using the optimizer\n",
        "\n",
        "            # Accumulate the weighted loss for the batch\n",
        "            epoch_weighted_loss += len(batch_y) * loss.item()\n",
        "\n",
        "        # Calculate and store the epoch's average loss\n",
        "        epoch_loss = epoch_weighted_loss / len(train_loader.dataset)\n",
        "        train_losses.append(epoch_loss)  # Track training loss for visualization\n",
        "\n",
        "        # Validation Phase\n",
        "        model.eval()  # Switch model to evaluation mode (disables training-specific layers like dropout)\n",
        "        correctly_labelled = 0  # Initialize correct prediction count for validation\n",
        "\n",
        "        with torch.no_grad():  # Disable gradient tracking for validation\n",
        "            val_epoch_weighted_loss = 0  # Initialize validation epoch loss accumulator\n",
        "\n",
        "            for val_batch_X, val_batch_y in test_loader:  # Loop through validation data batches\n",
        "                # Preprocess input batch\n",
        "                val_batch_X = val_batch_X.view(-1, 28 * 28).to(device)  # Flatten validation images\n",
        "                val_batch_y = val_batch_y.to(device)  # Move validation labels to device\n",
        "\n",
        "                # Forward pass: Get probabilities for each class\n",
        "                val_batch_y_probs = model(val_batch_X)\n",
        "\n",
        "                # Compute loss for the validation batch\n",
        "                loss = criterion(val_batch_y_probs, val_batch_y)\n",
        "                val_epoch_weighted_loss += len(val_batch_y) * loss.item()\n",
        "\n",
        "                # Convert probabilities to predicted labels\n",
        "                val_batch_y_pred = val_batch_y_probs.argmax(dim=1)\n",
        "\n",
        "                # Count correctly predicted labels\n",
        "                correctly_labelled += (val_batch_y_pred == val_batch_y).sum().item()\n",
        "\n",
        "        # Calculate and store the epoch's average validation loss\n",
        "        val_epoch_loss = val_epoch_weighted_loss / len(test_loader.dataset)\n",
        "        val_losses.append(val_epoch_loss)  # Track validation loss for visualization\n",
        "\n",
        "        # Update progress bar with the latest metrics\n",
        "        pbar.update(1)\n",
        "        pbar.set_postfix({\n",
        "            'Train Loss': epoch_loss,\n",
        "            'Validation Loss': val_epoch_loss,\n",
        "            'Validation Accuracy': correctly_labelled / len(test_loader.dataset) * 100\n",
        "        })\n",
        "\n",
        "        accuracies.append(correctly_labelled / len(test_loader.dataset) * 100)\n",
        "\n",
        "        # Dynamically update the plots for loss and accuracy\n",
        "        ax_loss.plot(train_losses, color='red', label='Train Loss')\n",
        "        ax_loss.plot(val_losses, color='blue', label='Validation Loss') \n",
        "        ax_acc.plot(accuracies, color='blue', label='Validation Accuracy')\n",
        "\n",
        "        if not epoch_no:\n",
        "            ax_acc.legend()\n",
        "            ax_loss.legend()\n",
        "        dh.update(fig)  # Update displayed figure\n",
        "    plt.close()  # Close the plot once training is complete\n",
        "\n",
        "print(f'Training complete on device {device}. Change device variable and run again to see the difference.')"
      ]
    },
    {
      "cell_type": "markdown",
      "metadata": {},
      "source": [
        "### Other Exercises:"
      ]
    },
    {
      "cell_type": "markdown",
      "metadata": {
        "id": "G8Jf5i7IAswc"
      },
      "source": [
        "#### Ex1. visualizing shapes"
      ]
    },
    {
      "cell_type": "code",
      "execution_count": 12,
      "metadata": {
        "colab": {
          "base_uri": "https://localhost:8080/"
        },
        "id": "eOaxXyMg-ahW",
        "outputId": "ed1b3391-2211-4623-f28a-fbd71f91e563"
      },
      "outputs": [
        {
          "name": "stdout",
          "output_type": "stream",
          "text": [
            "torch.Size([16, 784]) torch.Size([16])\n",
            "torch.Size([16, 10])\n",
            "torch.Size([16])\n",
            "\n",
            "\n",
            "To verify softmax converts inputs into probabilities (sum of which is 1), let's sum those probabilities and see if we get 1's: \n",
            "\n",
            "val_batch_y_probs.sum(1)=tensor([1.0000, 1.0000, 1.0000, 1.0000, 1.0000, 1.0000, 1.0000, 1.0000, 1.0000,\n",
            "        1.0000, 1.0000, 1.0000, 1.0000, 1.0000, 1.0000, 1.0000])\n",
            "\n",
            "val_batch_y_probs.sum(1).shape=torch.Size([16])\n",
            "\n",
            "\n",
            "Lets see argmax in action\n",
            "Here's one of the input to argmax\n",
            "\n",
            "tensor([6.4162e-10, 1.2921e-19, 2.0508e-08, 2.5132e-16, 3.0909e-11, 7.1307e-11,\n",
            "        1.0000e+00, 2.8979e-17, 6.4064e-13, 6.2544e-16])\n",
            "\n",
            "\n",
            "Here's its output\n",
            "tensor(6)\n"
          ]
        }
      ],
      "source": [
        "print(val_batch_X.shape, val_batch_y.shape)  # 784 is 28*28\n",
        "print(val_batch_y_probs.shape)  # inference from model\n",
        "print(val_batch_y_pred.shape)  # probabilities converted\n",
        "\n",
        "print(\"\\n\\nTo verify softmax converts inputs into probabilities (sum of which is 1), let's sum those probabilities and see if we get 1's: \\n\")\n",
        "print(f'{val_batch_y_probs.sum(1)=}')\n",
        "\n",
        "print(f'\\n{val_batch_y_probs.sum(1).shape=}')\n",
        "\n",
        "print('\\n\\nLets see argmax in action')\n",
        "print(\"Here's one of the input to argmax\\n\")\n",
        "test_idx = 15\n",
        "print(val_batch_y_probs[test_idx].cpu())  # .cpu() brings a tensor back to cpu device from any other it might be on (like cuda)\n",
        "print(\"\\n\\nHere's its output\")\n",
        "print(val_batch_y_pred[test_idx].cpu())"
      ]
    },
    {
      "cell_type": "markdown",
      "metadata": {
        "id": "_iw2G2akA5lB"
      },
      "source": [
        "#### Ex2. Saving and loading the model"
      ]
    },
    {
      "cell_type": "code",
      "execution_count": 13,
      "metadata": {
        "id": "Hi61n3DJAtvp"
      },
      "outputs": [],
      "source": [
        "# you can load save the model's state dict like this\n",
        "torch.save(model.state_dict(), 'MNIST_classifier.pt')  # take a look at the storage section if you're on colab"
      ]
    },
    {
      "cell_type": "code",
      "execution_count": 14,
      "metadata": {
        "colab": {
          "base_uri": "https://localhost:8080/"
        },
        "id": "MC84w0WpBE2Q",
        "outputId": "b9ca6b2e-52ae-4912-f589-e82c21db8dae"
      },
      "outputs": [
        {
          "name": "stdout",
          "output_type": "stream",
          "text": [
            "Before loading model\n",
            "2/16 correct\n",
            "After loading model\n",
            "15/16 correct\n"
          ]
        },
        {
          "name": "stderr",
          "output_type": "stream",
          "text": [
            "/var/folders/vj/72whtfvx7d95sdhqxcs_gy5h0000gp/T/ipykernel_53036/227431725.py:18: FutureWarning: You are using `torch.load` with `weights_only=False` (the current default value), which uses the default pickle module implicitly. It is possible to construct malicious pickle data which will execute arbitrary code during unpickling (See https://github.com/pytorch/pytorch/blob/main/SECURITY.md#untrusted-models for more details). In a future release, the default value for `weights_only` will be flipped to `True`. This limits the functions that could be executed during unpickling. Arbitrary objects will no longer be allowed to be loaded via this mode unless they are explicitly allowlisted by the user via `torch.serialization.add_safe_globals`. We recommend you start setting `weights_only=True` for any use case where you don't have full control of the loaded file. Please open an issue on GitHub for any issues related to this experimental feature.\n",
            "  loaded_model.load_state_dict(torch.load('MNIST_classifier.pt'))  # Load trained weights from the saved file\n"
          ]
        }
      ],
      "source": [
        "# Initialize an empty model with the same architecture as the saved model\n",
        "loaded_model = NN2Layer(28 * 28, 32, 10)  # Model with 28*28 input features, 32 hidden units, and 10 output classes\n",
        "loaded_model.eval().to(device)  # Set the model to evaluation mode and move it to the specified device\n",
        "\n",
        "print('Before loading model')\n",
        "\n",
        "# Evaluate the untrained model\n",
        "with torch.no_grad():  # Disable gradient tracking for inference\n",
        "    probs = loaded_model(val_batch_X)  # Get class probabilities from the untrained model\n",
        "    preds = probs.argmax(dim=1)  # Convert probabilities to predicted class labels\n",
        "\n",
        "    # Compare predictions with actual labels and print the number of correct predictions\n",
        "    print(f'{(preds == val_batch_y).sum()}/{len(preds)} correct')  # Accuracy before loading the trained weights\n",
        "\n",
        "print('After loading model')\n",
        "\n",
        "# Load the saved model weights into the initialized model\n",
        "loaded_model.load_state_dict(torch.load('MNIST_classifier.pt'))  # Load trained weights from the saved file\n",
        "\n",
        "# Evaluate the trained model\n",
        "with torch.no_grad():  # Disable gradient tracking for inference\n",
        "    probs = loaded_model(val_batch_X)  # Get class probabilities from the trained model\n",
        "    preds = probs.argmax(dim=1)  # Convert probabilities to predicted class labels\n",
        "\n",
        "    # Compare predictions with actual labels and print the number of correct predictions\n",
        "    print(f'{(preds == val_batch_y).sum()}/{len(preds)} correct')  # Accuracy after loading the trained weights"
      ]
    }
  ],
  "metadata": {
    "accelerator": "GPU",
    "colab": {
      "gpuType": "T4",
      "provenance": []
    },
    "kernelspec": {
      "display_name": "Python 3",
      "name": "python3"
    },
    "language_info": {
      "codemirror_mode": {
        "name": "ipython",
        "version": 3
      },
      "file_extension": ".py",
      "mimetype": "text/x-python",
      "name": "python",
      "nbconvert_exporter": "python",
      "pygments_lexer": "ipython3",
      "version": "3.9.6"
    }
  },
  "nbformat": 4,
  "nbformat_minor": 0
}
