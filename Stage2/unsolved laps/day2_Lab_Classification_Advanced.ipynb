{
 "cells": [
  {
   "cell_type": "markdown",
   "metadata": {
    "id": "gxn9dN5ji2Sl"
   },
   "source": [
    "# Classification\n",
    "\n",
    "> In this notebook we will cover the preprocessing of a tabular data and will use following algorithms:\n",
    "\n",
    "> 1. Logistic Regression\n",
    "> 2. Support Vector Machine\n",
    "> 3. Decision Tree Classifier\n",
    "> 4. Random Forest Classifier\n",
    "> 5. XGBoost Classifier\n",
    "> 6. CatBoost Classifier\n",
    "\n",
    "---\n",
    "\n",
    "# Data\n",
    "https://www.kaggle.com/datasets/nikhil7280/weather-type-classification/data\n",
    "> This dataset is generated to mimic weather data for classification tasks. It includes various weather-related features and categorizes the weather into four types: Rainy, Sunny, Cloudy, and Snowy.\n",
    "> \n",
    "> This is a Multiclass-Classification problem.\n",
    ">\n",
    "> The data contains the following columns:\n",
    "\n",
    "> * Temperature (numeric): The temperature in degrees Celsius, ranging from extreme cold to extreme heat.\n",
    "> * Humidity (numeric): The humidity percentage, including values above 100% to introduce outliers.\n",
    "> * Wind Speed (numeric): The wind speed in kilometers per hour, with a range including unrealistically high values.\n",
    "> * Precipitation (%) (numeric): The precipitation percentage, including outlier values.\n",
    "> * Cloud Cover (categorical): The cloud cover description.\n",
    "> * Atmospheric Pressure (numeric): The atmospheric pressure in hPa, covering a wide range.\n",
    "> * UV Index (numeric): The UV index, indicating the strength of ultraviolet radiation.\n",
    "> * Season (categorical): The season during which the data was recorded.\n",
    "> * Visibility (km) (numeric): The visibility in kilometers, including very low or very high values.\n",
    "> * Location (categorical): The type of location where the data was recorded.\n",
    "> * Weather Type (categorical): The target variable for classification, indicating the weather type.\n",
    "\n",
    "\n"
   ]
  },
  {
   "cell_type": "markdown",
   "metadata": {
    "id": "xU9jJiy8i2Sm"
   },
   "source": [
    "#  Import Libraries"
   ]
  },
  {
   "cell_type": "code",
   "execution_count": 1,
   "metadata": {
    "execution": {
     "iopub.execute_input": "2024-12-31T11:22:02.412474Z",
     "iopub.status.busy": "2024-12-31T11:22:02.411845Z",
     "iopub.status.idle": "2024-12-31T11:22:08.624943Z",
     "shell.execute_reply": "2024-12-31T11:22:08.623228Z",
     "shell.execute_reply.started": "2024-12-31T11:22:02.412312Z"
    },
    "id": "_23bFR8li_4Z",
    "trusted": true
   },
   "outputs": [],
   "source": [
    "from IPython.display import clear_output\n",
    "\n",
    "!pip install dask[dataframe] catboost\n",
    "\n",
    "clear_output()\n"
   ]
  },
  {
   "cell_type": "code",
   "execution_count": 2,
   "metadata": {
    "ExecuteTime": {
     "end_time": "2024-12-26T05:36:15.604668Z",
     "start_time": "2024-12-26T05:36:15.599055Z"
    },
    "execution": {
     "iopub.execute_input": "2024-12-31T11:22:08.627058Z",
     "iopub.status.busy": "2024-12-31T11:22:08.626635Z",
     "iopub.status.idle": "2024-12-31T11:22:10.172463Z",
     "shell.execute_reply": "2024-12-31T11:22:10.171266Z",
     "shell.execute_reply.started": "2024-12-31T11:22:08.627008Z"
    },
    "id": "qZmZ7jZli2Sm",
    "trusted": true
   },
   "outputs": [],
   "source": [
    "import pandas as pd\n",
    "import numpy as np\n",
    "import matplotlib.pyplot as plt\n",
    "import seaborn as sns\n",
    "import kagglehub\n",
    "import os\n",
    "\n",
    "%matplotlib inline"
   ]
  },
  {
   "cell_type": "markdown",
   "metadata": {
    "id": "ouYAXkQZi2Sn"
   },
   "source": [
    "##  Read the Data"
   ]
  },
  {
   "cell_type": "code",
   "execution_count": 3,
   "metadata": {
    "ExecuteTime": {
     "end_time": "2024-12-26T05:37:27.400474Z",
     "start_time": "2024-12-26T05:37:26.913736Z"
    },
    "colab": {
     "base_uri": "https://localhost:8080/"
    },
    "execution": {
     "iopub.execute_input": "2024-12-31T11:22:10.175151Z",
     "iopub.status.busy": "2024-12-31T11:22:10.174568Z",
     "iopub.status.idle": "2024-12-31T11:22:11.197864Z",
     "shell.execute_reply": "2024-12-31T11:22:11.196770Z",
     "shell.execute_reply.started": "2024-12-31T11:22:10.175077Z"
    },
    "id": "MIXGZ6oki2Sn",
    "outputId": "69b4d002-99cd-4014-8237-23ce564660ea",
    "trusted": true
   },
   "outputs": [
    {
     "name": "stdout",
     "output_type": "stream",
     "text": [
      "Path to dataset files: C:\\Users\\Abdal\\.cache\\kagglehub\\datasets\\nikhil7280\\weather-type-classification\\versions\\1\n"
     ]
    }
   ],
   "source": [
    "# Download latest version\n",
    "path = kagglehub.dataset_download(\"nikhil7280/weather-type-classification\")\n",
    "\n",
    "print(\"Path to dataset files:\", path)\n"
   ]
  },
  {
   "cell_type": "code",
   "execution_count": 4,
   "metadata": {
    "ExecuteTime": {
     "end_time": "2024-12-26T05:37:50.861825Z",
     "start_time": "2024-12-26T05:37:50.844429Z"
    },
    "colab": {
     "base_uri": "https://localhost:8080/",
     "height": 206
    },
    "execution": {
     "iopub.execute_input": "2024-12-31T11:22:11.199810Z",
     "iopub.status.busy": "2024-12-31T11:22:11.199415Z",
     "iopub.status.idle": "2024-12-31T11:22:11.269596Z",
     "shell.execute_reply": "2024-12-31T11:22:11.268392Z",
     "shell.execute_reply.started": "2024-12-31T11:22:11.199770Z"
    },
    "id": "pUuUlMXti2Sn",
    "outputId": "50e00d54-84fb-4422-ed3d-0131961079bc",
    "trusted": true
   },
   "outputs": [
    {
     "data": {
      "text/html": [
       "<div>\n",
       "<style scoped>\n",
       "    .dataframe tbody tr th:only-of-type {\n",
       "        vertical-align: middle;\n",
       "    }\n",
       "\n",
       "    .dataframe tbody tr th {\n",
       "        vertical-align: top;\n",
       "    }\n",
       "\n",
       "    .dataframe thead th {\n",
       "        text-align: right;\n",
       "    }\n",
       "</style>\n",
       "<table border=\"1\" class=\"dataframe\">\n",
       "  <thead>\n",
       "    <tr style=\"text-align: right;\">\n",
       "      <th></th>\n",
       "      <th>Temperature</th>\n",
       "      <th>Humidity</th>\n",
       "      <th>Wind Speed</th>\n",
       "      <th>Precipitation (%)</th>\n",
       "      <th>Cloud Cover</th>\n",
       "      <th>Atmospheric Pressure</th>\n",
       "      <th>UV Index</th>\n",
       "      <th>Season</th>\n",
       "      <th>Visibility (km)</th>\n",
       "      <th>Location</th>\n",
       "      <th>Weather Type</th>\n",
       "    </tr>\n",
       "  </thead>\n",
       "  <tbody>\n",
       "    <tr>\n",
       "      <th>0</th>\n",
       "      <td>14.0</td>\n",
       "      <td>73</td>\n",
       "      <td>9.5</td>\n",
       "      <td>82.0</td>\n",
       "      <td>partly cloudy</td>\n",
       "      <td>1010.82</td>\n",
       "      <td>2</td>\n",
       "      <td>Winter</td>\n",
       "      <td>3.5</td>\n",
       "      <td>inland</td>\n",
       "      <td>Rainy</td>\n",
       "    </tr>\n",
       "    <tr>\n",
       "      <th>1</th>\n",
       "      <td>39.0</td>\n",
       "      <td>96</td>\n",
       "      <td>8.5</td>\n",
       "      <td>71.0</td>\n",
       "      <td>partly cloudy</td>\n",
       "      <td>1011.43</td>\n",
       "      <td>7</td>\n",
       "      <td>Spring</td>\n",
       "      <td>10.0</td>\n",
       "      <td>inland</td>\n",
       "      <td>Cloudy</td>\n",
       "    </tr>\n",
       "    <tr>\n",
       "      <th>2</th>\n",
       "      <td>30.0</td>\n",
       "      <td>64</td>\n",
       "      <td>7.0</td>\n",
       "      <td>16.0</td>\n",
       "      <td>clear</td>\n",
       "      <td>1018.72</td>\n",
       "      <td>5</td>\n",
       "      <td>Spring</td>\n",
       "      <td>5.5</td>\n",
       "      <td>mountain</td>\n",
       "      <td>Sunny</td>\n",
       "    </tr>\n",
       "    <tr>\n",
       "      <th>3</th>\n",
       "      <td>38.0</td>\n",
       "      <td>83</td>\n",
       "      <td>1.5</td>\n",
       "      <td>82.0</td>\n",
       "      <td>clear</td>\n",
       "      <td>1026.25</td>\n",
       "      <td>7</td>\n",
       "      <td>Spring</td>\n",
       "      <td>1.0</td>\n",
       "      <td>coastal</td>\n",
       "      <td>Sunny</td>\n",
       "    </tr>\n",
       "    <tr>\n",
       "      <th>4</th>\n",
       "      <td>27.0</td>\n",
       "      <td>74</td>\n",
       "      <td>17.0</td>\n",
       "      <td>66.0</td>\n",
       "      <td>overcast</td>\n",
       "      <td>990.67</td>\n",
       "      <td>1</td>\n",
       "      <td>Winter</td>\n",
       "      <td>2.5</td>\n",
       "      <td>mountain</td>\n",
       "      <td>Rainy</td>\n",
       "    </tr>\n",
       "  </tbody>\n",
       "</table>\n",
       "</div>"
      ],
      "text/plain": [
       "   Temperature  Humidity  Wind Speed  Precipitation (%)    Cloud Cover  \\\n",
       "0         14.0        73         9.5               82.0  partly cloudy   \n",
       "1         39.0        96         8.5               71.0  partly cloudy   \n",
       "2         30.0        64         7.0               16.0          clear   \n",
       "3         38.0        83         1.5               82.0          clear   \n",
       "4         27.0        74        17.0               66.0       overcast   \n",
       "\n",
       "   Atmospheric Pressure  UV Index  Season  Visibility (km)  Location  \\\n",
       "0               1010.82         2  Winter              3.5    inland   \n",
       "1               1011.43         7  Spring             10.0    inland   \n",
       "2               1018.72         5  Spring              5.5  mountain   \n",
       "3               1026.25         7  Spring              1.0   coastal   \n",
       "4                990.67         1  Winter              2.5  mountain   \n",
       "\n",
       "  Weather Type  \n",
       "0        Rainy  \n",
       "1       Cloudy  \n",
       "2        Sunny  \n",
       "3        Sunny  \n",
       "4        Rainy  "
      ]
     },
     "execution_count": 4,
     "metadata": {},
     "output_type": "execute_result"
    }
   ],
   "source": [
    "csv_path = os.path.join(path, \"weather_classification_data.csv\")\n",
    "\n",
    "df = pd.read_csv(csv_path)\n",
    "df.head()"
   ]
  },
  {
   "cell_type": "code",
   "execution_count": 5,
   "metadata": {
    "ExecuteTime": {
     "end_time": "2024-12-26T05:37:51.532126Z",
     "start_time": "2024-12-26T05:37:51.517904Z"
    },
    "colab": {
     "base_uri": "https://localhost:8080/"
    },
    "execution": {
     "iopub.execute_input": "2024-12-31T11:22:11.271209Z",
     "iopub.status.busy": "2024-12-31T11:22:11.270837Z",
     "iopub.status.idle": "2024-12-31T11:22:11.301065Z",
     "shell.execute_reply": "2024-12-31T11:22:11.299652Z",
     "shell.execute_reply.started": "2024-12-31T11:22:11.271166Z"
    },
    "id": "l5SIzhrwi2So",
    "outputId": "0c179cb3-2f09-4b19-b949-28d8c52b1f74",
    "trusted": true
   },
   "outputs": [
    {
     "name": "stdout",
     "output_type": "stream",
     "text": [
      "<class 'pandas.core.frame.DataFrame'>\n",
      "RangeIndex: 13200 entries, 0 to 13199\n",
      "Data columns (total 11 columns):\n",
      " #   Column                Non-Null Count  Dtype  \n",
      "---  ------                --------------  -----  \n",
      " 0   Temperature           13200 non-null  float64\n",
      " 1   Humidity              13200 non-null  int64  \n",
      " 2   Wind Speed            13200 non-null  float64\n",
      " 3   Precipitation (%)     13200 non-null  float64\n",
      " 4   Cloud Cover           13200 non-null  object \n",
      " 5   Atmospheric Pressure  13200 non-null  float64\n",
      " 6   UV Index              13200 non-null  int64  \n",
      " 7   Season                13200 non-null  object \n",
      " 8   Visibility (km)       13200 non-null  float64\n",
      " 9   Location              13200 non-null  object \n",
      " 10  Weather Type          13200 non-null  object \n",
      "dtypes: float64(5), int64(2), object(4)\n",
      "memory usage: 1.1+ MB\n"
     ]
    }
   ],
   "source": [
    "df.info()"
   ]
  },
  {
   "cell_type": "markdown",
   "metadata": {
    "id": "Pmd8B-B0i2So"
   },
   "source": [
    "# 📊 Exploratory Data Analysis (EDA)\n",
    "\n",
    "#### Points you should answer with your EDA:\n",
    "\n",
    "##### 1- Is the target imbalanced? If yes, you should use appropriate metric (Precision, Recall, F1, AUC,...), and use appropriate split (StraitifiedKFold, For more info: [link](https://medium.com/@juanc.olamendy/a-comprehensive-guide-to-stratified-k-fold-cross-validation-for-unbalanced-data-014691060f17) )\n",
    "##### 2- Do we have missing values? If yes, you should handle them (Note: Gradient Boosting algorithms can work even if there are missing values).\n",
    "##### 3- Do we have catogerical columns? If yes, you should encode them.\n",
    "##### 4- Do we have duplicates samples? If yes, you should drop them.\n",
    "##### 5- Do I have different scales in the data? If yes, you should standardize them (Note: This is important for all the algorithms except tree models.)"
   ]
  },
  {
   "cell_type": "code",
   "execution_count": 6,
   "metadata": {
    "execution": {
     "iopub.execute_input": "2024-12-31T11:22:11.303048Z",
     "iopub.status.busy": "2024-12-31T11:22:11.302455Z",
     "iopub.status.idle": "2024-12-31T11:22:11.589886Z",
     "shell.execute_reply": "2024-12-31T11:22:11.588733Z",
     "shell.execute_reply.started": "2024-12-31T11:22:11.303006Z"
    },
    "trusted": true
   },
   "outputs": [
    {
     "name": "stdout",
     "output_type": "stream",
     "text": [
      "Target Distribution:\n",
      "Weather Type\n",
      "Rainy     3300\n",
      "Cloudy    3300\n",
      "Sunny     3300\n",
      "Snowy     3300\n",
      "Name: count, dtype: int64\n",
      "\n",
      "Target Distribution Normalized:\n",
      "Weather Type\n",
      "Rainy     0.25\n",
      "Cloudy    0.25\n",
      "Sunny     0.25\n",
      "Snowy     0.25\n",
      "Name: proportion, dtype: float64\n"
     ]
    },
    {
     "data": {
      "image/png": "[encoded data removed]",
      "text/plain": [
       "<Figure size 640x480 with 1 Axes>"
      ]
     },
     "metadata": {},
     "output_type": "display_data"
    }
   ],
   "source": [
    "# 1. Is the target imbalanced?\n",
    "print(\"Target Distribution:\")\n",
    "distribution = df[\"Weather Type\"].value_counts()\n",
    "print(distribution)\n",
    "\n",
    "print(\"\\nTarget Distribution Normalized:\")\n",
    "distribution_normalized = df[\"Weather Type\"].value_counts(normalize=True)\n",
    "print(distribution_normalized)\n",
    "\n",
    "sns.countplot(x=df[\"Weather Type\"])\n",
    "plt.title(\"Target Distribution\")\n",
    "plt.show()"
   ]
  },
  {
   "cell_type": "markdown",
   "metadata": {},
   "source": [
    "##### No imbalance. So we can use Accuracy as a metric (we can show the others as well), and use KFold for splitting later."
   ]
  },
  {
   "cell_type": "code",
   "execution_count": 7,
   "metadata": {},
   "outputs": [
    {
     "data": {
      "text/plain": [
       "Temperature             0\n",
       "Humidity                0\n",
       "Wind Speed              0\n",
       "Precipitation (%)       0\n",
       "Cloud Cover             0\n",
       "Atmospheric Pressure    0\n",
       "UV Index                0\n",
       "Season                  0\n",
       "Visibility (km)         0\n",
       "Location                0\n",
       "Weather Type            0\n",
       "dtype: int64"
      ]
     },
     "metadata": {},
     "output_type": "display_data"
    }
   ],
   "source": [
    "# 2. Do we have missing values?\n",
    "display(df.isnull().sum())\n",
    "\n",
    "assert df.isnull().sum().all() == 0"
   ]
  },
  {
   "cell_type": "markdown",
   "metadata": {},
   "source": [
    "No missing values"
   ]
  },
  {
   "cell_type": "code",
   "execution_count": 8,
   "metadata": {
    "execution": {
     "iopub.execute_input": "2024-12-31T11:22:11.607261Z",
     "iopub.status.busy": "2024-12-31T11:22:11.606873Z",
     "iopub.status.idle": "2024-12-31T11:22:11.625413Z",
     "shell.execute_reply": "2024-12-31T11:22:11.624424Z",
     "shell.execute_reply.started": "2024-12-31T11:22:11.607228Z"
    },
    "trusted": true
   },
   "outputs": [
    {
     "name": "stdout",
     "output_type": "stream",
     "text": [
      "Categorical Columns: ['Cloud Cover', 'Season', 'Location', 'Weather Type']\n"
     ]
    }
   ],
   "source": [
    "# 3. Do we have categorical columns?\n",
    "categorical_cols = df.select_dtypes(include=[\"object\"]).columns\n",
    "print(\"Categorical Columns:\", list(categorical_cols))"
   ]
  },
  {
   "cell_type": "markdown",
   "metadata": {},
   "source": [
    "##### We have several categorical columns. Let's encode them using Label Encoder."
   ]
  },
  {
   "cell_type": "code",
   "execution_count": 9,
   "metadata": {
    "execution": {
     "iopub.execute_input": "2024-12-31T11:22:11.627062Z",
     "iopub.status.busy": "2024-12-31T11:22:11.626802Z",
     "iopub.status.idle": "2024-12-31T11:22:11.753900Z",
     "shell.execute_reply": "2024-12-31T11:22:11.752952Z",
     "shell.execute_reply.started": "2024-12-31T11:22:11.627040Z"
    },
    "trusted": true
   },
   "outputs": [
    {
     "name": "stdout",
     "output_type": "stream",
     "text": [
      "Encoding column: Cloud Cover\n",
      "Encoding column: Season\n",
      "Encoding column: Location\n",
      "Encoding column: Weather Type\n"
     ]
    },
    {
     "data": {
      "text/html": [
       "<div>\n",
       "<style scoped>\n",
       "    .dataframe tbody tr th:only-of-type {\n",
       "        vertical-align: middle;\n",
       "    }\n",
       "\n",
       "    .dataframe tbody tr th {\n",
       "        vertical-align: top;\n",
       "    }\n",
       "\n",
       "    .dataframe thead th {\n",
       "        text-align: right;\n",
       "    }\n",
       "</style>\n",
       "<table border=\"1\" class=\"dataframe\">\n",
       "  <thead>\n",
       "    <tr style=\"text-align: right;\">\n",
       "      <th></th>\n",
       "      <th>Temperature</th>\n",
       "      <th>Humidity</th>\n",
       "      <th>Wind Speed</th>\n",
       "      <th>Precipitation (%)</th>\n",
       "      <th>Cloud Cover</th>\n",
       "      <th>Atmospheric Pressure</th>\n",
       "      <th>UV Index</th>\n",
       "      <th>Season</th>\n",
       "      <th>Visibility (km)</th>\n",
       "      <th>Location</th>\n",
       "      <th>Weather Type</th>\n",
       "    </tr>\n",
       "  </thead>\n",
       "  <tbody>\n",
       "    <tr>\n",
       "      <th>0</th>\n",
       "      <td>14.0</td>\n",
       "      <td>73</td>\n",
       "      <td>9.5</td>\n",
       "      <td>82.0</td>\n",
       "      <td>3</td>\n",
       "      <td>1010.82</td>\n",
       "      <td>2</td>\n",
       "      <td>3</td>\n",
       "      <td>3.5</td>\n",
       "      <td>1</td>\n",
       "      <td>1</td>\n",
       "    </tr>\n",
       "    <tr>\n",
       "      <th>1</th>\n",
       "      <td>39.0</td>\n",
       "      <td>96</td>\n",
       "      <td>8.5</td>\n",
       "      <td>71.0</td>\n",
       "      <td>3</td>\n",
       "      <td>1011.43</td>\n",
       "      <td>7</td>\n",
       "      <td>1</td>\n",
       "      <td>10.0</td>\n",
       "      <td>1</td>\n",
       "      <td>0</td>\n",
       "    </tr>\n",
       "    <tr>\n",
       "      <th>2</th>\n",
       "      <td>30.0</td>\n",
       "      <td>64</td>\n",
       "      <td>7.0</td>\n",
       "      <td>16.0</td>\n",
       "      <td>0</td>\n",
       "      <td>1018.72</td>\n",
       "      <td>5</td>\n",
       "      <td>1</td>\n",
       "      <td>5.5</td>\n",
       "      <td>2</td>\n",
       "      <td>3</td>\n",
       "    </tr>\n",
       "    <tr>\n",
       "      <th>3</th>\n",
       "      <td>38.0</td>\n",
       "      <td>83</td>\n",
       "      <td>1.5</td>\n",
       "      <td>82.0</td>\n",
       "      <td>0</td>\n",
       "      <td>1026.25</td>\n",
       "      <td>7</td>\n",
       "      <td>1</td>\n",
       "      <td>1.0</td>\n",
       "      <td>0</td>\n",
       "      <td>3</td>\n",
       "    </tr>\n",
       "    <tr>\n",
       "      <th>4</th>\n",
       "      <td>27.0</td>\n",
       "      <td>74</td>\n",
       "      <td>17.0</td>\n",
       "      <td>66.0</td>\n",
       "      <td>2</td>\n",
       "      <td>990.67</td>\n",
       "      <td>1</td>\n",
       "      <td>3</td>\n",
       "      <td>2.5</td>\n",
       "      <td>2</td>\n",
       "      <td>1</td>\n",
       "    </tr>\n",
       "    <tr>\n",
       "      <th>...</th>\n",
       "      <td>...</td>\n",
       "      <td>...</td>\n",
       "      <td>...</td>\n",
       "      <td>...</td>\n",
       "      <td>...</td>\n",
       "      <td>...</td>\n",
       "      <td>...</td>\n",
       "      <td>...</td>\n",
       "      <td>...</td>\n",
       "      <td>...</td>\n",
       "      <td>...</td>\n",
       "    </tr>\n",
       "    <tr>\n",
       "      <th>13195</th>\n",
       "      <td>10.0</td>\n",
       "      <td>74</td>\n",
       "      <td>14.5</td>\n",
       "      <td>71.0</td>\n",
       "      <td>2</td>\n",
       "      <td>1003.15</td>\n",
       "      <td>1</td>\n",
       "      <td>2</td>\n",
       "      <td>1.0</td>\n",
       "      <td>2</td>\n",
       "      <td>1</td>\n",
       "    </tr>\n",
       "    <tr>\n",
       "      <th>13196</th>\n",
       "      <td>-1.0</td>\n",
       "      <td>76</td>\n",
       "      <td>3.5</td>\n",
       "      <td>23.0</td>\n",
       "      <td>1</td>\n",
       "      <td>1067.23</td>\n",
       "      <td>1</td>\n",
       "      <td>3</td>\n",
       "      <td>6.0</td>\n",
       "      <td>0</td>\n",
       "      <td>2</td>\n",
       "    </tr>\n",
       "    <tr>\n",
       "      <th>13197</th>\n",
       "      <td>30.0</td>\n",
       "      <td>77</td>\n",
       "      <td>5.5</td>\n",
       "      <td>28.0</td>\n",
       "      <td>2</td>\n",
       "      <td>1012.69</td>\n",
       "      <td>3</td>\n",
       "      <td>0</td>\n",
       "      <td>9.0</td>\n",
       "      <td>0</td>\n",
       "      <td>0</td>\n",
       "    </tr>\n",
       "    <tr>\n",
       "      <th>13198</th>\n",
       "      <td>3.0</td>\n",
       "      <td>76</td>\n",
       "      <td>10.0</td>\n",
       "      <td>94.0</td>\n",
       "      <td>2</td>\n",
       "      <td>984.27</td>\n",
       "      <td>0</td>\n",
       "      <td>3</td>\n",
       "      <td>2.0</td>\n",
       "      <td>1</td>\n",
       "      <td>2</td>\n",
       "    </tr>\n",
       "    <tr>\n",
       "      <th>13199</th>\n",
       "      <td>-5.0</td>\n",
       "      <td>38</td>\n",
       "      <td>0.0</td>\n",
       "      <td>92.0</td>\n",
       "      <td>2</td>\n",
       "      <td>1015.37</td>\n",
       "      <td>5</td>\n",
       "      <td>0</td>\n",
       "      <td>10.0</td>\n",
       "      <td>2</td>\n",
       "      <td>1</td>\n",
       "    </tr>\n",
       "  </tbody>\n",
       "</table>\n",
       "<p>13200 rows × 11 columns</p>\n",
       "</div>"
      ],
      "text/plain": [
       "       Temperature  Humidity  Wind Speed  Precipitation (%)  Cloud Cover  \\\n",
       "0             14.0        73         9.5               82.0            3   \n",
       "1             39.0        96         8.5               71.0            3   \n",
       "2             30.0        64         7.0               16.0            0   \n",
       "3             38.0        83         1.5               82.0            0   \n",
       "4             27.0        74        17.0               66.0            2   \n",
       "...            ...       ...         ...                ...          ...   \n",
       "13195         10.0        74        14.5               71.0            2   \n",
       "13196         -1.0        76         3.5               23.0            1   \n",
       "13197         30.0        77         5.5               28.0            2   \n",
       "13198          3.0        76        10.0               94.0            2   \n",
       "13199         -5.0        38         0.0               92.0            2   \n",
       "\n",
       "       Atmospheric Pressure  UV Index  Season  Visibility (km)  Location  \\\n",
       "0                   1010.82         2       3              3.5         1   \n",
       "1                   1011.43         7       1             10.0         1   \n",
       "2                   1018.72         5       1              5.5         2   \n",
       "3                   1026.25         7       1              1.0         0   \n",
       "4                    990.67         1       3              2.5         2   \n",
       "...                     ...       ...     ...              ...       ...   \n",
       "13195               1003.15         1       2              1.0         2   \n",
       "13196               1067.23         1       3              6.0         0   \n",
       "13197               1012.69         3       0              9.0         0   \n",
       "13198                984.27         0       3              2.0         1   \n",
       "13199               1015.37         5       0             10.0         2   \n",
       "\n",
       "       Weather Type  \n",
       "0                 1  \n",
       "1                 0  \n",
       "2                 3  \n",
       "3                 3  \n",
       "4                 1  \n",
       "...             ...  \n",
       "13195             1  \n",
       "13196             2  \n",
       "13197             0  \n",
       "13198             2  \n",
       "13199             1  \n",
       "\n",
       "[13200 rows x 11 columns]"
      ]
     },
     "execution_count": 9,
     "metadata": {},
     "output_type": "execute_result"
    }
   ],
   "source": [
    "from sklearn.preprocessing import LabelEncoder\n",
    "\n",
    "categorical_cols = df.select_dtypes(include=[\"object\"]).columns\n",
    "le = LabelEncoder()\n",
    "\n",
    "for col in categorical_cols:\n",
    "    print(f\"Encoding column: {col}\")\n",
    "    df[col] = le.fit_transform(df[col])\n",
    "    \n",
    "df"
   ]
  },
  {
   "cell_type": "code",
   "execution_count": 10,
   "metadata": {
    "execution": {
     "iopub.execute_input": "2024-12-31T11:22:11.755236Z",
     "iopub.status.busy": "2024-12-31T11:22:11.754926Z",
     "iopub.status.idle": "2024-12-31T11:22:11.767233Z",
     "shell.execute_reply": "2024-12-31T11:22:11.765996Z",
     "shell.execute_reply.started": "2024-12-31T11:22:11.755211Z"
    },
    "trusted": true
   },
   "outputs": [
    {
     "name": "stdout",
     "output_type": "stream",
     "text": [
      "Number of Duplicate Samples: 0\n",
      "No Duplicate Samples Found.\n"
     ]
    }
   ],
   "source": [
    "# 4. Do we have duplicate samples?\n",
    "duplicates = df.duplicated().sum()\n",
    "print(f\"Number of Duplicate Samples: {duplicates}\")\n",
    "if duplicates > 0:\n",
    "    print(\"Dropping Duplicates...\")\n",
    "    df.drop_duplicates(inplace=True)\n",
    "    print(\"Duplicates Dropped.\")\n",
    "else:\n",
    "    print(\"No Duplicate Samples Found.\")"
   ]
  },
  {
   "cell_type": "markdown",
   "metadata": {},
   "source": [
    "##### If we have duplicates, we could use df = df.drop_duplicates().reset_index(drop=True) to drop them"
   ]
  },
  {
   "cell_type": "code",
   "execution_count": 11,
   "metadata": {
    "execution": {
     "iopub.execute_input": "2024-12-31T11:22:11.768622Z",
     "iopub.status.busy": "2024-12-31T11:22:11.768328Z",
     "iopub.status.idle": "2024-12-31T11:22:11.803748Z",
     "shell.execute_reply": "2024-12-31T11:22:11.802583Z",
     "shell.execute_reply.started": "2024-12-31T11:22:11.768596Z"
    },
    "trusted": true
   },
   "outputs": [
    {
     "data": {
      "text/html": [
       "<div>\n",
       "<style scoped>\n",
       "    .dataframe tbody tr th:only-of-type {\n",
       "        vertical-align: middle;\n",
       "    }\n",
       "\n",
       "    .dataframe tbody tr th {\n",
       "        vertical-align: top;\n",
       "    }\n",
       "\n",
       "    .dataframe thead th {\n",
       "        text-align: right;\n",
       "    }\n",
       "</style>\n",
       "<table border=\"1\" class=\"dataframe\">\n",
       "  <thead>\n",
       "    <tr style=\"text-align: right;\">\n",
       "      <th></th>\n",
       "      <th>Temperature</th>\n",
       "      <th>Humidity</th>\n",
       "      <th>Wind Speed</th>\n",
       "      <th>Precipitation (%)</th>\n",
       "      <th>Cloud Cover</th>\n",
       "      <th>Atmospheric Pressure</th>\n",
       "      <th>UV Index</th>\n",
       "      <th>Season</th>\n",
       "      <th>Visibility (km)</th>\n",
       "      <th>Location</th>\n",
       "      <th>Weather Type</th>\n",
       "    </tr>\n",
       "  </thead>\n",
       "  <tbody>\n",
       "    <tr>\n",
       "      <th>count</th>\n",
       "      <td>13200.000000</td>\n",
       "      <td>13200.000000</td>\n",
       "      <td>13200.000000</td>\n",
       "      <td>13200.000000</td>\n",
       "      <td>13200.000000</td>\n",
       "      <td>13200.000000</td>\n",
       "      <td>13200.000000</td>\n",
       "      <td>13200.000000</td>\n",
       "      <td>13200.000000</td>\n",
       "      <td>13200.000000</td>\n",
       "      <td>13200.000000</td>\n",
       "    </tr>\n",
       "    <tr>\n",
       "      <th>mean</th>\n",
       "      <td>19.127576</td>\n",
       "      <td>68.710833</td>\n",
       "      <td>9.832197</td>\n",
       "      <td>53.644394</td>\n",
       "      <td>1.990227</td>\n",
       "      <td>1005.827896</td>\n",
       "      <td>4.005758</td>\n",
       "      <td>1.849394</td>\n",
       "      <td>5.462917</td>\n",
       "      <td>1.094091</td>\n",
       "      <td>1.500000</td>\n",
       "    </tr>\n",
       "    <tr>\n",
       "      <th>std</th>\n",
       "      <td>17.386327</td>\n",
       "      <td>20.194248</td>\n",
       "      <td>6.908704</td>\n",
       "      <td>31.946541</td>\n",
       "      <td>1.012302</td>\n",
       "      <td>37.199589</td>\n",
       "      <td>3.856600</td>\n",
       "      <td>1.164824</td>\n",
       "      <td>3.371499</td>\n",
       "      <td>0.791420</td>\n",
       "      <td>1.118076</td>\n",
       "    </tr>\n",
       "    <tr>\n",
       "      <th>min</th>\n",
       "      <td>-25.000000</td>\n",
       "      <td>20.000000</td>\n",
       "      <td>0.000000</td>\n",
       "      <td>0.000000</td>\n",
       "      <td>0.000000</td>\n",
       "      <td>800.120000</td>\n",
       "      <td>0.000000</td>\n",
       "      <td>0.000000</td>\n",
       "      <td>0.000000</td>\n",
       "      <td>0.000000</td>\n",
       "      <td>0.000000</td>\n",
       "    </tr>\n",
       "    <tr>\n",
       "      <th>25%</th>\n",
       "      <td>4.000000</td>\n",
       "      <td>57.000000</td>\n",
       "      <td>5.000000</td>\n",
       "      <td>19.000000</td>\n",
       "      <td>2.000000</td>\n",
       "      <td>994.800000</td>\n",
       "      <td>1.000000</td>\n",
       "      <td>1.000000</td>\n",
       "      <td>3.000000</td>\n",
       "      <td>0.000000</td>\n",
       "      <td>0.750000</td>\n",
       "    </tr>\n",
       "    <tr>\n",
       "      <th>50%</th>\n",
       "      <td>21.000000</td>\n",
       "      <td>70.000000</td>\n",
       "      <td>9.000000</td>\n",
       "      <td>58.000000</td>\n",
       "      <td>2.000000</td>\n",
       "      <td>1007.650000</td>\n",
       "      <td>3.000000</td>\n",
       "      <td>2.000000</td>\n",
       "      <td>5.000000</td>\n",
       "      <td>1.000000</td>\n",
       "      <td>1.500000</td>\n",
       "    </tr>\n",
       "    <tr>\n",
       "      <th>75%</th>\n",
       "      <td>31.000000</td>\n",
       "      <td>84.000000</td>\n",
       "      <td>13.500000</td>\n",
       "      <td>82.000000</td>\n",
       "      <td>3.000000</td>\n",
       "      <td>1016.772500</td>\n",
       "      <td>7.000000</td>\n",
       "      <td>3.000000</td>\n",
       "      <td>7.500000</td>\n",
       "      <td>2.000000</td>\n",
       "      <td>2.250000</td>\n",
       "    </tr>\n",
       "    <tr>\n",
       "      <th>max</th>\n",
       "      <td>109.000000</td>\n",
       "      <td>109.000000</td>\n",
       "      <td>48.500000</td>\n",
       "      <td>109.000000</td>\n",
       "      <td>3.000000</td>\n",
       "      <td>1199.210000</td>\n",
       "      <td>14.000000</td>\n",
       "      <td>3.000000</td>\n",
       "      <td>20.000000</td>\n",
       "      <td>2.000000</td>\n",
       "      <td>3.000000</td>\n",
       "    </tr>\n",
       "  </tbody>\n",
       "</table>\n",
       "</div>"
      ],
      "text/plain": [
       "        Temperature      Humidity    Wind Speed  Precipitation (%)  \\\n",
       "count  13200.000000  13200.000000  13200.000000       13200.000000   \n",
       "mean      19.127576     68.710833      9.832197          53.644394   \n",
       "std       17.386327     20.194248      6.908704          31.946541   \n",
       "min      -25.000000     20.000000      0.000000           0.000000   \n",
       "25%        4.000000     57.000000      5.000000          19.000000   \n",
       "50%       21.000000     70.000000      9.000000          58.000000   \n",
       "75%       31.000000     84.000000     13.500000          82.000000   \n",
       "max      109.000000    109.000000     48.500000         109.000000   \n",
       "\n",
       "        Cloud Cover  Atmospheric Pressure      UV Index        Season  \\\n",
       "count  13200.000000          13200.000000  13200.000000  13200.000000   \n",
       "mean       1.990227           1005.827896      4.005758      1.849394   \n",
       "std        1.012302             37.199589      3.856600      1.164824   \n",
       "min        0.000000            800.120000      0.000000      0.000000   \n",
       "25%        2.000000            994.800000      1.000000      1.000000   \n",
       "50%        2.000000           1007.650000      3.000000      2.000000   \n",
       "75%        3.000000           1016.772500      7.000000      3.000000   \n",
       "max        3.000000           1199.210000     14.000000      3.000000   \n",
       "\n",
       "       Visibility (km)      Location  Weather Type  \n",
       "count     13200.000000  13200.000000  13200.000000  \n",
       "mean          5.462917      1.094091      1.500000  \n",
       "std           3.371499      0.791420      1.118076  \n",
       "min           0.000000      0.000000      0.000000  \n",
       "25%           3.000000      0.000000      0.750000  \n",
       "50%           5.000000      1.000000      1.500000  \n",
       "75%           7.500000      2.000000      2.250000  \n",
       "max          20.000000      2.000000      3.000000  "
      ]
     },
     "execution_count": 11,
     "metadata": {},
     "output_type": "execute_result"
    }
   ],
   "source": [
    "# 5. Do we have different scales in the data?\n",
    "df.describe()"
   ]
  },
  {
   "cell_type": "markdown",
   "metadata": {},
   "source": [
    "##### Yes, we have different scales, and we will use several algorithms that needs scaling.\n",
    "##### Let's use MinMaxScaler to scale the data."
   ]
  },
  {
   "cell_type": "code",
   "execution_count": 12,
   "metadata": {
    "execution": {
     "iopub.execute_input": "2024-12-31T11:22:11.805417Z",
     "iopub.status.busy": "2024-12-31T11:22:11.805041Z",
     "iopub.status.idle": "2024-12-31T11:22:11.842678Z",
     "shell.execute_reply": "2024-12-31T11:22:11.841598Z",
     "shell.execute_reply.started": "2024-12-31T11:22:11.805377Z"
    },
    "trusted": true
   },
   "outputs": [
    {
     "name": "stdout",
     "output_type": "stream",
     "text": [
      "Features: ['Temperature', 'Humidity', 'Wind Speed', 'Precipitation (%)', 'Cloud Cover', 'Atmospheric Pressure', 'UV Index', 'Season', 'Visibility (km)', 'Location']\n"
     ]
    },
    {
     "data": {
      "text/html": [
       "<div>\n",
       "<style scoped>\n",
       "    .dataframe tbody tr th:only-of-type {\n",
       "        vertical-align: middle;\n",
       "    }\n",
       "\n",
       "    .dataframe tbody tr th {\n",
       "        vertical-align: top;\n",
       "    }\n",
       "\n",
       "    .dataframe thead th {\n",
       "        text-align: right;\n",
       "    }\n",
       "</style>\n",
       "<table border=\"1\" class=\"dataframe\">\n",
       "  <thead>\n",
       "    <tr style=\"text-align: right;\">\n",
       "      <th></th>\n",
       "      <th>Temperature</th>\n",
       "      <th>Humidity</th>\n",
       "      <th>Wind Speed</th>\n",
       "      <th>Precipitation (%)</th>\n",
       "      <th>Cloud Cover</th>\n",
       "      <th>Atmospheric Pressure</th>\n",
       "      <th>UV Index</th>\n",
       "      <th>Season</th>\n",
       "      <th>Visibility (km)</th>\n",
       "      <th>Location</th>\n",
       "      <th>Weather Type</th>\n",
       "    </tr>\n",
       "  </thead>\n",
       "  <tbody>\n",
       "    <tr>\n",
       "      <th>0</th>\n",
       "      <td>0.291045</td>\n",
       "      <td>0.595506</td>\n",
       "      <td>0.195876</td>\n",
       "      <td>0.752294</td>\n",
       "      <td>1.000000</td>\n",
       "      <td>0.527951</td>\n",
       "      <td>0.142857</td>\n",
       "      <td>1.000000</td>\n",
       "      <td>0.175</td>\n",
       "      <td>0.5</td>\n",
       "      <td>1</td>\n",
       "    </tr>\n",
       "    <tr>\n",
       "      <th>1</th>\n",
       "      <td>0.477612</td>\n",
       "      <td>0.853933</td>\n",
       "      <td>0.175258</td>\n",
       "      <td>0.651376</td>\n",
       "      <td>1.000000</td>\n",
       "      <td>0.529480</td>\n",
       "      <td>0.500000</td>\n",
       "      <td>0.333333</td>\n",
       "      <td>0.500</td>\n",
       "      <td>0.5</td>\n",
       "      <td>0</td>\n",
       "    </tr>\n",
       "    <tr>\n",
       "      <th>2</th>\n",
       "      <td>0.410448</td>\n",
       "      <td>0.494382</td>\n",
       "      <td>0.144330</td>\n",
       "      <td>0.146789</td>\n",
       "      <td>0.000000</td>\n",
       "      <td>0.547746</td>\n",
       "      <td>0.357143</td>\n",
       "      <td>0.333333</td>\n",
       "      <td>0.275</td>\n",
       "      <td>1.0</td>\n",
       "      <td>3</td>\n",
       "    </tr>\n",
       "    <tr>\n",
       "      <th>3</th>\n",
       "      <td>0.470149</td>\n",
       "      <td>0.707865</td>\n",
       "      <td>0.030928</td>\n",
       "      <td>0.752294</td>\n",
       "      <td>0.000000</td>\n",
       "      <td>0.566614</td>\n",
       "      <td>0.500000</td>\n",
       "      <td>0.333333</td>\n",
       "      <td>0.050</td>\n",
       "      <td>0.0</td>\n",
       "      <td>3</td>\n",
       "    </tr>\n",
       "    <tr>\n",
       "      <th>4</th>\n",
       "      <td>0.388060</td>\n",
       "      <td>0.606742</td>\n",
       "      <td>0.350515</td>\n",
       "      <td>0.605505</td>\n",
       "      <td>0.666667</td>\n",
       "      <td>0.477461</td>\n",
       "      <td>0.071429</td>\n",
       "      <td>1.000000</td>\n",
       "      <td>0.125</td>\n",
       "      <td>1.0</td>\n",
       "      <td>1</td>\n",
       "    </tr>\n",
       "    <tr>\n",
       "      <th>...</th>\n",
       "      <td>...</td>\n",
       "      <td>...</td>\n",
       "      <td>...</td>\n",
       "      <td>...</td>\n",
       "      <td>...</td>\n",
       "      <td>...</td>\n",
       "      <td>...</td>\n",
       "      <td>...</td>\n",
       "      <td>...</td>\n",
       "      <td>...</td>\n",
       "      <td>...</td>\n",
       "    </tr>\n",
       "    <tr>\n",
       "      <th>13195</th>\n",
       "      <td>0.261194</td>\n",
       "      <td>0.606742</td>\n",
       "      <td>0.298969</td>\n",
       "      <td>0.651376</td>\n",
       "      <td>0.666667</td>\n",
       "      <td>0.508732</td>\n",
       "      <td>0.071429</td>\n",
       "      <td>0.666667</td>\n",
       "      <td>0.050</td>\n",
       "      <td>1.0</td>\n",
       "      <td>1</td>\n",
       "    </tr>\n",
       "    <tr>\n",
       "      <th>13196</th>\n",
       "      <td>0.179104</td>\n",
       "      <td>0.629213</td>\n",
       "      <td>0.072165</td>\n",
       "      <td>0.211009</td>\n",
       "      <td>0.333333</td>\n",
       "      <td>0.669298</td>\n",
       "      <td>0.071429</td>\n",
       "      <td>1.000000</td>\n",
       "      <td>0.300</td>\n",
       "      <td>0.0</td>\n",
       "      <td>2</td>\n",
       "    </tr>\n",
       "    <tr>\n",
       "      <th>13197</th>\n",
       "      <td>0.410448</td>\n",
       "      <td>0.640449</td>\n",
       "      <td>0.113402</td>\n",
       "      <td>0.256881</td>\n",
       "      <td>0.666667</td>\n",
       "      <td>0.532637</td>\n",
       "      <td>0.214286</td>\n",
       "      <td>0.000000</td>\n",
       "      <td>0.450</td>\n",
       "      <td>0.0</td>\n",
       "      <td>0</td>\n",
       "    </tr>\n",
       "    <tr>\n",
       "      <th>13198</th>\n",
       "      <td>0.208955</td>\n",
       "      <td>0.629213</td>\n",
       "      <td>0.206186</td>\n",
       "      <td>0.862385</td>\n",
       "      <td>0.666667</td>\n",
       "      <td>0.461425</td>\n",
       "      <td>0.000000</td>\n",
       "      <td>1.000000</td>\n",
       "      <td>0.100</td>\n",
       "      <td>0.5</td>\n",
       "      <td>2</td>\n",
       "    </tr>\n",
       "    <tr>\n",
       "      <th>13199</th>\n",
       "      <td>0.149254</td>\n",
       "      <td>0.202247</td>\n",
       "      <td>0.000000</td>\n",
       "      <td>0.844037</td>\n",
       "      <td>0.666667</td>\n",
       "      <td>0.539352</td>\n",
       "      <td>0.357143</td>\n",
       "      <td>0.000000</td>\n",
       "      <td>0.500</td>\n",
       "      <td>1.0</td>\n",
       "      <td>1</td>\n",
       "    </tr>\n",
       "  </tbody>\n",
       "</table>\n",
       "<p>13200 rows × 11 columns</p>\n",
       "</div>"
      ],
      "text/plain": [
       "       Temperature  Humidity  Wind Speed  Precipitation (%)  Cloud Cover  \\\n",
       "0         0.291045  0.595506    0.195876           0.752294     1.000000   \n",
       "1         0.477612  0.853933    0.175258           0.651376     1.000000   \n",
       "2         0.410448  0.494382    0.144330           0.146789     0.000000   \n",
       "3         0.470149  0.707865    0.030928           0.752294     0.000000   \n",
       "4         0.388060  0.606742    0.350515           0.605505     0.666667   \n",
       "...            ...       ...         ...                ...          ...   \n",
       "13195     0.261194  0.606742    0.298969           0.651376     0.666667   \n",
       "13196     0.179104  0.629213    0.072165           0.211009     0.333333   \n",
       "13197     0.410448  0.640449    0.113402           0.256881     0.666667   \n",
       "13198     0.208955  0.629213    0.206186           0.862385     0.666667   \n",
       "13199     0.149254  0.202247    0.000000           0.844037     0.666667   \n",
       "\n",
       "       Atmospheric Pressure  UV Index    Season  Visibility (km)  Location  \\\n",
       "0                  0.527951  0.142857  1.000000            0.175       0.5   \n",
       "1                  0.529480  0.500000  0.333333            0.500       0.5   \n",
       "2                  0.547746  0.357143  0.333333            0.275       1.0   \n",
       "3                  0.566614  0.500000  0.333333            0.050       0.0   \n",
       "4                  0.477461  0.071429  1.000000            0.125       1.0   \n",
       "...                     ...       ...       ...              ...       ...   \n",
       "13195              0.508732  0.071429  0.666667            0.050       1.0   \n",
       "13196              0.669298  0.071429  1.000000            0.300       0.0   \n",
       "13197              0.532637  0.214286  0.000000            0.450       0.0   \n",
       "13198              0.461425  0.000000  1.000000            0.100       0.5   \n",
       "13199              0.539352  0.357143  0.000000            0.500       1.0   \n",
       "\n",
       "       Weather Type  \n",
       "0                 1  \n",
       "1                 0  \n",
       "2                 3  \n",
       "3                 3  \n",
       "4                 1  \n",
       "...             ...  \n",
       "13195             1  \n",
       "13196             2  \n",
       "13197             0  \n",
       "13198             2  \n",
       "13199             1  \n",
       "\n",
       "[13200 rows x 11 columns]"
      ]
     },
     "execution_count": 12,
     "metadata": {},
     "output_type": "execute_result"
    }
   ],
   "source": [
    "from sklearn.preprocessing import MinMaxScaler\n",
    "features = df.columns.drop(\"Weather Type\")  ### DON'T SCALE THE TARGET\n",
    "print(\"Features:\", list(features))\n",
    "\n",
    "scaler = MinMaxScaler()\n",
    "df[features] = scaler.fit_transform(df[features])\n",
    "df"
   ]
  },
  {
   "cell_type": "markdown",
   "metadata": {
    "id": "FzgCXJlci2Sr"
   },
   "source": [
    "#  Training our Classification Models\n",
    "\n",
    "> We will need to first split up our data into an X array that contains the features to train on, and a y array with the target variable, in this case, the Weather Type column."
   ]
  },
  {
   "cell_type": "code",
   "execution_count": 13,
   "metadata": {
    "ExecuteTime": {
     "end_time": "2024-12-26T05:41:21.460244Z",
     "start_time": "2024-12-26T05:41:21.454329Z"
    },
    "execution": {
     "iopub.execute_input": "2024-12-31T11:22:11.844016Z",
     "iopub.status.busy": "2024-12-31T11:22:11.843675Z",
     "iopub.status.idle": "2024-12-31T11:22:11.850194Z",
     "shell.execute_reply": "2024-12-31T11:22:11.848890Z",
     "shell.execute_reply.started": "2024-12-31T11:22:11.843988Z"
    },
    "id": "BjCoRlHji2Sr",
    "trusted": true
   },
   "outputs": [],
   "source": [
    "X = df.drop(\"Weather Type\",axis=1)\n",
    "y = df['Weather Type']"
   ]
  },
  {
   "cell_type": "markdown",
   "metadata": {
    "id": "xlrD2G81i2Sr"
   },
   "source": [
    "> We will use KFold to evaluate our models"
   ]
  },
  {
   "cell_type": "code",
   "execution_count": 14,
   "metadata": {
    "ExecuteTime": {
     "end_time": "2024-12-26T05:43:13.127902Z",
     "start_time": "2024-12-26T05:42:35.403051Z"
    },
    "colab": {
     "base_uri": "https://localhost:8080/"
    },
    "execution": {
     "iopub.execute_input": "2024-12-31T11:22:11.851485Z",
     "iopub.status.busy": "2024-12-31T11:22:11.851195Z",
     "iopub.status.idle": "2024-12-31T11:23:01.331215Z",
     "shell.execute_reply": "2024-12-31T11:23:01.329991Z",
     "shell.execute_reply.started": "2024-12-31T11:22:11.851459Z"
    },
    "id": "uyp7PsJii2Sr",
    "outputId": "62a19366-cae6-42e8-be5f-116471cc987e",
    "trusted": true
   },
   "outputs": [
    {
     "name": "stdout",
     "output_type": "stream",
     "text": [
      "Logistic Regression Accuracy: 0.8523\n",
      "Logistic Regression Precision: 0.8525\n",
      "Logistic Regression Recall: 0.8523\n",
      "Logistic Regression F1-Score: 0.8520\n",
      "\n",
      "\n",
      "Support Vector Machine Accuracy: 0.9042\n",
      "Support Vector Machine Precision: 0.9052\n",
      "Support Vector Machine Recall: 0.9042\n",
      "Support Vector Machine F1-Score: 0.9045\n",
      "\n",
      "\n",
      "Decision Tree Classifier Accuracy: 0.9021\n",
      "Decision Tree Classifier Precision: 0.9043\n",
      "Decision Tree Classifier Recall: 0.9021\n",
      "Decision Tree Classifier F1-Score: 0.9027\n",
      "\n",
      "\n",
      "Random Forest Classifier Accuracy: 0.9141\n",
      "Random Forest Classifier Precision: 0.9144\n",
      "Random Forest Classifier Recall: 0.9141\n",
      "Random Forest Classifier F1-Score: 0.9142\n",
      "\n",
      "\n",
      "XGBoost Classifier Accuracy: 0.9152\n",
      "XGBoost Classifier Precision: 0.9155\n",
      "XGBoost Classifier Recall: 0.9152\n",
      "XGBoost Classifier F1-Score: 0.9153\n",
      "\n",
      "\n",
      "CatBoost Classifier Accuracy: 0.9138\n",
      "CatBoost Classifier Precision: 0.9140\n",
      "CatBoost Classifier Recall: 0.9138\n",
      "CatBoost Classifier F1-Score: 0.9138\n",
      "\n",
      "\n"
     ]
    }
   ],
   "source": [
    "from sklearn.linear_model import LogisticRegression\n",
    "from sklearn.svm import SVC\n",
    "from sklearn.tree import DecisionTreeClassifier\n",
    "from sklearn.ensemble import RandomForestClassifier\n",
    "from xgboost import XGBClassifier\n",
    "from catboost import CatBoostClassifier\n",
    "from sklearn.model_selection import StratifiedKFold\n",
    "from sklearn.metrics import accuracy_score, precision_score, recall_score, f1_score\n",
    "\n",
    "# Define classification models\n",
    "models = {\n",
    "    \"Logistic Regression\": LogisticRegression(max_iter=1000),\n",
    "    \"Support Vector Machine\": SVC(kernel='rbf'),\n",
    "    \"Decision Tree Classifier\": DecisionTreeClassifier(max_depth=5),\n",
    "    \"Random Forest Classifier\": RandomForestClassifier(n_estimators=100),\n",
    "    \"XGBoost Classifier\": XGBClassifier(verbosity=0),\n",
    "    \"CatBoost Classifier\": CatBoostClassifier(verbose=0)\n",
    "}\n",
    "\n",
    "\n",
    "for model_name, model in models.items():\n",
    "    scores_accuracy = []\n",
    "    scores_precision = []\n",
    "    scores_recall = []\n",
    "    scores_f1 = []\n",
    "\n",
    "    # Stratified 5-Fold Cross-Validation\n",
    "    skf = StratifiedKFold(n_splits=5, shuffle=True, random_state=42)\n",
    "    for train_index, test_index in skf.split(X, y):\n",
    "        # Split data into training and testing sets\n",
    "        X_Train, X_Test = X.loc[train_index, :], X.loc[test_index, :]\n",
    "        y_Train, y_Test = y.iloc[train_index], y.iloc[test_index]\n",
    "        # Train the model\n",
    "        model.fit(X_Train, y_Train)\n",
    "        # Predict on the test set\n",
    "        y_pred = model.predict(X_Test)\n",
    "\n",
    "        # Calculate metrics\n",
    "        scores_accuracy.append(accuracy_score(y_Test, y_pred))\n",
    "        scores_precision.append(precision_score(y_Test, y_pred, average='weighted'))\n",
    "        scores_recall.append(recall_score(y_Test, y_pred, average='weighted'))\n",
    "        scores_f1.append(f1_score(y_Test, y_pred, average='weighted'))\n",
    "\n",
    "    # Print the results\n",
    "    print(f\"{model_name} Accuracy: {np.mean(scores_accuracy):.4f}\")\n",
    "    print(f\"{model_name} Precision: {np.mean(scores_precision):.4f}\")\n",
    "    print(f\"{model_name} Recall: {np.mean(scores_recall):.4f}\")\n",
    "    print(f\"{model_name} F1-Score: {np.mean(scores_f1):.4f}\")\n",
    "    print(\"\\n\")\n"
   ]
  },
  {
   "cell_type": "markdown",
   "metadata": {
    "id": "2kyD79xvi2Sr"
   },
   "source": [
    "> * Is 91% Accuracy Good? We Need a Baseline.\n",
    ">\n",
    "> * What is the Simplest Baseline? Always predicting the majority class (e.g., if 80% of data is one class, accuracy = 80%).\n",
    ">\n",
    "> * If Our Model Beats the Baseline, It’s Good.\n"
   ]
  },
  {
   "cell_type": "code",
   "execution_count": 15,
   "metadata": {
    "ExecuteTime": {
     "end_time": "2024-12-26T05:43:54.209141Z",
     "start_time": "2024-12-26T05:43:54.201303Z"
    },
    "colab": {
     "base_uri": "https://localhost:8080/"
    },
    "execution": {
     "iopub.execute_input": "2024-12-31T11:23:01.332805Z",
     "iopub.status.busy": "2024-12-31T11:23:01.332387Z",
     "iopub.status.idle": "2024-12-31T11:23:01.395947Z",
     "shell.execute_reply": "2024-12-31T11:23:01.393802Z",
     "shell.execute_reply.started": "2024-12-31T11:23:01.332765Z"
    },
    "id": "3--GjzdDi2Sr",
    "outputId": "87c7d93c-9125-4004-d273-959fc45c5496",
    "trusted": true
   },
   "outputs": [
    {
     "name": "stdout",
     "output_type": "stream",
     "text": [
      "              precision    recall  f1-score   support\n",
      "\n",
      "       Clear       0.25      0.25      0.25      3300\n",
      "      Cloudy       0.25      0.25      0.25      3300\n",
      "        Rain       0.25      0.24      0.25      3300\n",
      "        Snow       0.25      0.25      0.25      3300\n",
      "\n",
      "    accuracy                           0.25     13200\n",
      "   macro avg       0.25      0.25      0.25     13200\n",
      "weighted avg       0.25      0.25      0.25     13200\n",
      "\n"
     ]
    }
   ],
   "source": [
    "from sklearn.metrics import classification_report\n",
    "\n",
    "# Set random seed\n",
    "np.random.seed(42)\n",
    "\n",
    "# Calculate the majority class baseline\n",
    "baseline_pred = np.random.randint(0, 4, size=len(y))\n",
    "\n",
    "# Evaluate the baseline\n",
    "print(classification_report(y, baseline_pred, target_names=['Clear', 'Cloudy', 'Rain', 'Snow']))\n"
   ]
  },
  {
   "cell_type": "markdown",
   "metadata": {
    "id": "DnDWWyN3i2Sr"
   },
   "source": [
    "> * Our models are significanlty better than the baselines.\n",
    ">\n",
    "> * Let's Check what are the important features."
   ]
  },
  {
   "cell_type": "code",
   "execution_count": 16,
   "metadata": {
    "ExecuteTime": {
     "end_time": "2024-12-26T05:44:39.004936Z",
     "start_time": "2024-12-26T05:44:38.779246Z"
    },
    "colab": {
     "base_uri": "https://localhost:8080/",
     "height": 564
    },
    "execution": {
     "iopub.execute_input": "2024-12-31T11:23:01.398014Z",
     "iopub.status.busy": "2024-12-31T11:23:01.397535Z",
     "iopub.status.idle": "2024-12-31T11:23:01.714663Z",
     "shell.execute_reply": "2024-12-31T11:23:01.713170Z",
     "shell.execute_reply.started": "2024-12-31T11:23:01.397965Z"
    },
    "id": "IDQsOyt7i2Sr",
    "outputId": "ddfe3ebb-bb9d-4e24-aef7-4659cc9ce280",
    "trusted": true
   },
   "outputs": [
    {
     "data": {
      "image/png": "[encoded data removed]",
      "text/plain": [
       "<Figure size 1000x600 with 1 Axes>"
      ]
     },
     "metadata": {},
     "output_type": "display_data"
    }
   ],
   "source": [
    "# Retrieve Logistic Regression coefficients and sort by absolute importance\n",
    "logistic_importance = list(zip(X.columns, models[\"Logistic Regression\"].coef_[0]))\n",
    "sorted_logistic_importance = sorted(logistic_importance, key=lambda x: abs(x[1]), reverse=True)\n",
    "\n",
    "# Extract sorted features and their coefficients\n",
    "features, coefficients = zip(*sorted_logistic_importance)\n",
    "\n",
    "# Plot feature importances\n",
    "plt.figure(figsize=(10, 6))\n",
    "plt.barh(features, np.abs(coefficients), color='darkblue')\n",
    "plt.xlabel('Coefficient Value')\n",
    "plt.ylabel('Features')\n",
    "plt.title('Logistic Regression Feature Importance')\n",
    "plt.gca().invert_yaxis()  # Invert y-axis to show the most important features at the top\n",
    "plt.show()\n"
   ]
  },
  {
   "cell_type": "code",
   "execution_count": 17,
   "metadata": {
    "execution": {
     "iopub.execute_input": "2024-12-31T11:23:01.716346Z",
     "iopub.status.busy": "2024-12-31T11:23:01.715897Z",
     "iopub.status.idle": "2024-12-31T11:23:02.028362Z",
     "shell.execute_reply": "2024-12-31T11:23:02.026965Z",
     "shell.execute_reply.started": "2024-12-31T11:23:01.716299Z"
    },
    "trusted": true
   },
   "outputs": [
    {
     "data": {
      "image/png": "[encoded data removed]",
      "text/plain": [
       "<Figure size 1000x600 with 1 Axes>"
      ]
     },
     "metadata": {},
     "output_type": "display_data"
    }
   ],
   "source": [
    "# Retrieve XGBoost feature importances\n",
    "xgb_importances = models[\"XGBoost Classifier\"].feature_importances_\n",
    "\n",
    "# Create a sorted list of feature importance\n",
    "sorted_idx = np.argsort(xgb_importances)[::-1]\n",
    "sorted_features = X.columns[sorted_idx]\n",
    "sorted_importances = xgb_importances[sorted_idx]\n",
    "\n",
    "# Plot feature importances\n",
    "plt.figure(figsize=(10, 6))\n",
    "plt.barh(sorted_features, sorted_importances, color='brown')\n",
    "plt.xlabel('Importance Score')\n",
    "plt.ylabel('Features')\n",
    "plt.title('XGBoost Feature Importance')\n",
    "plt.gca().invert_yaxis()  # Invert y-axis to show the most important features at the top\n",
    "plt.show()\n"
   ]
  },
  {
   "cell_type": "code",
   "execution_count": 18,
   "metadata": {
    "ExecuteTime": {
     "end_time": "2024-12-26T05:46:09.556835Z",
     "start_time": "2024-12-26T05:46:09.344533Z"
    },
    "colab": {
     "base_uri": "https://localhost:8080/",
     "height": 564
    },
    "execution": {
     "iopub.execute_input": "2024-12-31T11:23:02.029868Z",
     "iopub.status.busy": "2024-12-31T11:23:02.029481Z",
     "iopub.status.idle": "2024-12-31T11:23:02.440113Z",
     "shell.execute_reply": "2024-12-31T11:23:02.438901Z",
     "shell.execute_reply.started": "2024-12-31T11:23:02.029831Z"
    },
    "id": "L9CNCSe_i2Ss",
    "outputId": "4275d1f8-8dbf-41a0-bf2e-99fbf589ce55",
    "trusted": true
   },
   "outputs": [
    {
     "data": {
      "image/png": "[encoded data removed]",
      "text/plain": [
       "<Figure size 1000x600 with 1 Axes>"
      ]
     },
     "metadata": {},
     "output_type": "display_data"
    }
   ],
   "source": [
    "# Retrieve CatBoost feature importances and sort them\n",
    "catboost_model = models[\"CatBoost Classifier\"]\n",
    "catboost_importance = list(zip(X.columns, catboost_model.feature_importances_))\n",
    "sorted_catboost_importance = sorted(catboost_importance, key=lambda x: x[1], reverse=True)\n",
    "\n",
    "# Extract features and their importances\n",
    "features, importances = zip(*sorted_catboost_importance)\n",
    "\n",
    "# Plot feature importances\n",
    "plt.figure(figsize=(10, 6))\n",
    "plt.barh(features, importances, color='orange')\n",
    "plt.xlabel('Importance Score')\n",
    "plt.ylabel('Features')\n",
    "plt.title('CatBoost Feature Importance')\n",
    "plt.gca().invert_yaxis()  # Invert y-axis to show the most important features at the top\n",
    "plt.show()\n"
   ]
  },
  {
   "cell_type": "markdown",
   "metadata": {
    "id": "YLROzR4ni2Ss"
   },
   "source": [
    "## Final Notes:\n",
    "> * Notice how different models depend on different features. \"Cloud Cover\" is the top feature for XGBoost while it is less important for the other models. (Do you think we could combine these models somehow to achieve even better results? Hint: Consider using something other than model.predict().)\n",
    "\n",
    "> * Gradient Boosting algorithms (e.g., XGBoost, LightGBM, CatBoost) often outperform other algorithms in tabular data. \n",
    "\n",
    "\n",
    "> * Want to improve performance even further? Try to do feature engineering and Hyperparameters tuning, and keep evaluating your work against the CV. "
   ]
  },
  {
   "cell_type": "markdown",
   "metadata": {
    "id": "FgZEMGr0i2Ss"
   },
   "source": [
    "# Created by:\n",
    "[Mohamed Eltayeb](https://www.kaggle.com/mohammad2012191)\n"
   ]
  }
 ],
 "metadata": {
  "colab": {
   "provenance": []
  },
  "kaggle": {
   "accelerator": "none",
   "dataSources": [
    {
     "databundleVersionId": 868283,
     "sourceId": 5407,
     "sourceType": "competition"
    },
    {
     "databundleVersionId": 7459,
     "datasetId": 4909,
     "sourceId": 7459,
     "sourceType": "datasetVersion"
    },
    {
     "databundleVersionId": 8923341,
     "datasetId": 5268544,
     "sourceId": 8767723,
     "sourceType": "datasetVersion"
    }
   ],
   "dockerImageVersionId": 30822,
   "isGpuEnabled": false,
   "isInternetEnabled": true,
   "language": "python",
   "sourceType": "notebook"
  },
  "kernelspec": {
   "display_name": "KAUST_TA",
   "language": "python",
   "name": "python3"
  },
  "language_info": {
   "codemirror_mode": {
    "name": "ipython",
    "version": 3
   },
   "file_extension": ".py",
   "mimetype": "text/x-python",
   "name": "python",
   "nbconvert_exporter": "python",
   "pygments_lexer": "ipython3",
   "version": "3.9.21"
  }
 },
 "nbformat": 4,
 "nbformat_minor": 4
}
