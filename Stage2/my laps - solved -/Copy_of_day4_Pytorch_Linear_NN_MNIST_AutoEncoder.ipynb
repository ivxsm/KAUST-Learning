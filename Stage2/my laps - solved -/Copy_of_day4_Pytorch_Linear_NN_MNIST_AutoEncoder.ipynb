{
  "cells": [
    {
      "cell_type": "markdown",
      "metadata": {
        "id": "view-in-github",
        "colab_type": "text"
      },
      "source": [
        "<a href=\"https://colab.research.google.com/github/ivxsm/KAUST-Learning/blob/main/Copy_of_day4_Pytorch_Linear_NN_MNIST_AutoEncoder.ipynb\" target=\"_parent\"><img src=\"https://colab.research.google.com/assets/colab-badge.svg\" alt=\"Open In Colab\"/></a>"
      ]
    },
    {
      "cell_type": "code",
      "execution_count": null,
      "metadata": {
        "id": "zwfZGneCdQSg"
      },
      "outputs": [],
      "source": [
        "from IPython.display import clear_output"
      ]
    },
    {
      "cell_type": "code",
      "execution_count": null,
      "metadata": {
        "id": "a9FjTEzAdQ28"
      },
      "outputs": [],
      "source": [
        "%pip install torch torchvision torchsummary\n",
        "%pip install numpy\n",
        "%pip install matplotlib\n",
        "\n",
        "clear_output()\n",
        "#hh"
      ]
    },
    {
      "cell_type": "code",
      "execution_count": null,
      "metadata": {
        "id": "tQaUBH8lmnnr"
      },
      "outputs": [],
      "source": [
        "import torch\n",
        "import numpy as np\n",
        "import torch.nn as nn\n",
        "from torchvision import transforms\n",
        "from torchvision.datasets import MNIST\n",
        "from torch.utils.data.sampler import SubsetRandomSampler\n",
        "from torchsummary import summary\n",
        "import matplotlib.pyplot as plt\n",
        "from mpl_toolkits.axes_grid1 import ImageGrid"
      ]
    },
    {
      "cell_type": "markdown",
      "metadata": {
        "id": "gC2jmrtmiUm7"
      },
      "source": [
        "## Contents\n",
        "\n",
        "Today we'll attempt to create a number image generator through auto encoders. Here's the technique\n",
        "\n",
        "1. The model has 2 parts, an encoder and a decoder\n",
        "2. The encoder takes number image (mnist) and converts it into an embedding/encoding of specified size (output of encoder last layer). by passing it through multiple linear layers.\n",
        "3. The decoder then takes that encoding and attempts to re-create the original image\n",
        "4. During training, our cost function is the difference between generated image and original image. we'll use MSE Loss for this\n",
        "5. Once the training is complete, we'll create our own embeddings of specified size ourselves and run it through the decoder to generate images\n",
        "\n",
        "\n",
        "Note: In this notebook we'll limit ourselves to Linear Layers or BatchNorm's only (and activations). Which means NO CNN, attention, or anything fancier. For this reason, the performance might be questionable. What we wanna see is the model trying to capture the pattern?\n",
        "\n",
        "You need to know:\n",
        "\n",
        "1. **pytorch** (for impelementation)\n",
        "2. a bit of **torch dataloaders and datasets** (not necessary but helps understanding how we're loading data)\n",
        "3. A little bit of **matplotlib** (for result and training trajectory visualization)"
      ]
    },
    {
      "cell_type": "code",
      "execution_count": null,
      "metadata": {
        "id": "b83RYTZueJCW"
      },
      "outputs": [],
      "source": [
        "batch_size = 64\n",
        "\n",
        "train_transforms = transforms.Compose(\n",
        "    [\n",
        "        transforms.RandomCrop(28, padding=4), # to make it harder for the model , first the padding then the curp\n",
        "        transforms.ToTensor(),\n",
        "    ]\n",
        ")\n",
        "\n",
        "train_data = MNIST(\n",
        "    root=\"./datasets\", train=True, download=True, transform=train_transforms\n",
        ")\n",
        "train_loader = torch.utils.data.DataLoader(\n",
        "    train_data, batch_size=batch_size, shuffle=True\n",
        ")"
      ]
    },
    {
      "cell_type": "code",
      "execution_count": null,
      "metadata": {
        "id": "iEF-W-XZnB68"
      },
      "outputs": [],
      "source": [
        "class AutoEncoderGenerator(nn.Module):\n",
        "\n",
        "  def __init__(self, dim_z):\n",
        "    super().__init__()\n",
        "    self.Encoder = nn.Sequential(\n",
        "        # you need to specify the input dimension and output dimension for each layer.\n",
        "        # don't forget the input dimension for the first layer will be num_sample X 28 X 28\n",
        "        nn.Linear(28 * 28, 1000),\n",
        "        nn.LeakyReLU(),\n",
        "        nn.BatchNorm1d(1000),\n",
        "\n",
        "        nn.Linear(1000, 512),\n",
        "        nn.LeakyReLU(),\n",
        "        nn.BatchNorm1d(512),\n",
        "\n",
        "        nn.Linear(512, 256),\n",
        "        nn.LeakyReLU(),\n",
        "\n",
        "        nn.Linear(256, dim_z),\n",
        "        nn.Tanh(),\n",
        "      )\n",
        "\n",
        "\n",
        "    self.Decoder = nn.Sequential(\n",
        "        nn.Linear(dim_z, 256),\n",
        "        nn.LeakyReLU(),\n",
        "\n",
        "        nn.Linear(256, 512),\n",
        "        nn.LeakyReLU(),\n",
        "\n",
        "        nn.Linear(512, 1000),\n",
        "        nn.LeakyReLU(),\n",
        "\n",
        "        nn.Linear(1000,28*28),\n",
        "        nn.Sigmoid()\n",
        "      )\n",
        "\n",
        "  def forward(self, x):\n",
        "\n",
        "    original_shape = x.shape\n",
        "    x = torch.flatten(x, start_dim=1)\n",
        "\n",
        "    \"\"\"\n",
        "    if you want to use the decoder or encoder you can use the keyword\n",
        "    self.variable/object to access the class variables/objects\n",
        "    \"\"\"\n",
        "\n",
        "    # you will need it when calling the decoder and encoder e.g self.encoder(input)\n",
        "\n",
        "    # pass the input to the encoder first\n",
        "    z = self.Encoder(x)\n",
        "    # then pass the outputs of the encoder to the decoder\n",
        "    x = self.Decoder(z)\n",
        "\n",
        "    x = x.view(original_shape)\n",
        "\n",
        "    return x"
      ]
    },
    {
      "cell_type": "code",
      "execution_count": null,
      "metadata": {
        "id": "IFKJOAj5Pbdl"
      },
      "outputs": [],
      "source": [
        "dim_z = 128\n",
        "model = AutoEncoderGenerator(dim_z=dim_z)"
      ]
    },
    {
      "cell_type": "code",
      "execution_count": null,
      "metadata": {
        "colab": {
          "base_uri": "https://localhost:8080/"
        },
        "id": "YWBNQw3LtZd4",
        "outputId": "eee0d122-c95e-446d-bb2e-c5c9bcd7fbb6"
      },
      "outputs": [
        {
          "output_type": "stream",
          "name": "stdout",
          "text": [
            "----------------------------------------------------------------\n",
            "        Layer (type)               Output Shape         Param #\n",
            "================================================================\n",
            "            Linear-1                 [-1, 1000]         785,000\n",
            "         LeakyReLU-2                 [-1, 1000]               0\n",
            "       BatchNorm1d-3                 [-1, 1000]           2,000\n",
            "            Linear-4                  [-1, 512]         512,512\n",
            "         LeakyReLU-5                  [-1, 512]               0\n",
            "       BatchNorm1d-6                  [-1, 512]           1,024\n",
            "            Linear-7                  [-1, 256]         131,328\n",
            "         LeakyReLU-8                  [-1, 256]               0\n",
            "            Linear-9                  [-1, 128]          32,896\n",
            "             Tanh-10                  [-1, 128]               0\n",
            "           Linear-11                  [-1, 256]          33,024\n",
            "        LeakyReLU-12                  [-1, 256]               0\n",
            "           Linear-13                  [-1, 512]         131,584\n",
            "        LeakyReLU-14                  [-1, 512]               0\n",
            "           Linear-15                 [-1, 1000]         513,000\n",
            "        LeakyReLU-16                 [-1, 1000]               0\n",
            "           Linear-17                  [-1, 784]         784,784\n",
            "          Sigmoid-18                  [-1, 784]               0\n",
            "================================================================\n",
            "Total params: 2,927,152\n",
            "Trainable params: 2,927,152\n",
            "Non-trainable params: 0\n",
            "----------------------------------------------------------------\n",
            "Input size (MB): 0.00\n",
            "Forward/backward pass size (MB): 0.08\n",
            "Params size (MB): 11.17\n",
            "Estimated Total Size (MB): 11.25\n",
            "----------------------------------------------------------------\n"
          ]
        }
      ],
      "source": [
        "summary(model, (1, 28, 28), device=\"cpu\")"
      ]
    },
    {
      "cell_type": "code",
      "execution_count": null,
      "metadata": {
        "id": "tXbOcut4fJFV"
      },
      "outputs": [],
      "source": [
        "device = 'cuda' if torch.cuda.is_available() else 'cpu'\n",
        "\n",
        "model.to(device)\n",
        "\n",
        "num_epochs = 20\n",
        "lr = 1e-4\n",
        "# choose your optimizer from torch.optim.???? and give it some the needed hyperparameters\n",
        "#optimizer = torch.optim.SGD( model.parameters() ,lr = lr )\n",
        "optimizer = torch.optim.AdamW( params = model.parameters() ,lr = lr )\n",
        "# what would be a good loss function for this task ?\n",
        "criterion = nn.MSELoss()"
      ]
    },
    {
      "cell_type": "code",
      "execution_count": null,
      "metadata": {
        "colab": {
          "base_uri": "https://localhost:8080/"
        },
        "id": "CFXvYta-rxsT",
        "outputId": "4f3138a1-275e-4279-9aa1-e1ac80479309"
      },
      "outputs": [
        {
          "output_type": "stream",
          "name": "stdout",
          "text": [
            "epoch 0/20, loss = 0.06091914369066556\n",
            "epoch 1/20, loss = 0.03594387314319611\n",
            "epoch 2/20, loss = 0.029214372621973357\n",
            "epoch 3/20, loss = 0.025539772520462672\n",
            "epoch 4/20, loss = 0.023384214066465694\n",
            "epoch 5/20, loss = 0.021853271875778835\n",
            "epoch 6/20, loss = 0.020704144605994224\n",
            "epoch 7/20, loss = 0.019632851338386537\n",
            "epoch 8/20, loss = 0.01856320661008358\n",
            "epoch 9/20, loss = 0.017782216243942578\n",
            "epoch 10/20, loss = 0.017085361774762473\n",
            "epoch 11/20, loss = 0.01639582949479421\n",
            "epoch 12/20, loss = 0.01587313283085823\n",
            "epoch 13/20, loss = 0.015346251215537388\n",
            "epoch 14/20, loss = 0.014876971543828646\n",
            "epoch 15/20, loss = 0.01445909961660703\n",
            "epoch 16/20, loss = 0.014086599577466647\n",
            "epoch 17/20, loss = 0.013673895282049974\n",
            "epoch 18/20, loss = 0.013317103344202042\n",
            "epoch 19/20, loss = 0.013047846345603466\n"
          ]
        }
      ],
      "source": [
        "train_losses = []\n",
        "\n",
        "for i in range(num_epochs):\n",
        "\n",
        "  epoch_weighted_loss = 0\n",
        "  for (X, _) in train_loader:\n",
        "\n",
        "    X = X.to(device)\n",
        "\n",
        "    Xhat = model(X)  # Xhat because we're trying to have the model regenerate what's fed to it (X)\n",
        "    optimizer.zero_grad()\n",
        "    # the inputs for the loss will be lossfunc(y_hat,y_true)\n",
        "    loss = criterion(Xhat, X)\n",
        "    loss.backward()\n",
        "    optimizer.step()\n",
        "\n",
        "    epoch_weighted_loss += loss.item()*len(X)\n",
        "\n",
        "  epoch_loss = epoch_weighted_loss/len(train_loader.dataset)\n",
        "\n",
        "  print(f'epoch {i}/{num_epochs}, loss = {epoch_loss}')\n",
        "\n",
        "  train_losses.append(epoch_loss)"
      ]
    },
    {
      "cell_type": "code",
      "execution_count": null,
      "metadata": {
        "colab": {
          "base_uri": "https://localhost:8080/",
          "height": 468
        },
        "id": "XUwJuIZosq1_",
        "outputId": "e573f680-d5c2-45f1-8544-f757b7f5f487"
      },
      "outputs": [
        {
          "output_type": "execute_result",
          "data": {
            "text/plain": [
              "[<matplotlib.lines.Line2D at 0x7f45bff43010>]"
            ]
          },
          "metadata": {},
          "execution_count": 19
        },
        {
          "output_type": "display_data",
          "data": {
            "text/plain": [
              "<Figure size 640x480 with 1 Axes>"
            ],
            "image/png": "[encoded data removed]"
          },
          "metadata": {}
        }
      ],
      "source": [
        " plt.plot(train_losses)"
      ]
    },
    {
      "cell_type": "code",
      "execution_count": null,
      "metadata": {
        "id": "0wBaVZ0UvkOG"
      },
      "outputs": [],
      "source": [
        "# Helper function to display results\n",
        "def display_image_grid(images, num_rows, num_cols, title_text):\n",
        "\n",
        "    fig = plt.figure(\n",
        "        figsize=(num_cols * 3.0, num_rows * 3.0),\n",
        "    )\n",
        "    grid = ImageGrid(fig, 111, nrows_ncols=(num_rows, num_cols), axes_pad=0.15)\n",
        "\n",
        "    for ax, im in zip(grid, images):\n",
        "        ax.imshow(im, cmap=\"gray\")\n",
        "        ax.axis(\"off\")\n",
        "\n",
        "    plt.suptitle(title_text, fontsize=20)\n",
        "    plt.show()"
      ]
    },
    {
      "cell_type": "code",
      "execution_count": null,
      "metadata": {
        "colab": {
          "base_uri": "https://localhost:8080/",
          "height": 369
        },
        "id": "aO3WkbTiuQQM",
        "outputId": "b8eda735-3902-4df6-a537-be9421c77afb"
      },
      "outputs": [
        {
          "output_type": "display_data",
          "data": {
            "text/plain": [
              "<Figure size 2100x600 with 28 Axes>"
            ],
            "image/png": "[encoded data removed]"
          },
          "metadata": {}
        }
      ],
      "source": [
        "# Now we will try some actual generation. We will sample the encodings randomly and then pass them through decoder\n",
        "\n",
        "rows, cols = 2, 7\n",
        "sample_encodings = (\n",
        "    torch.rand(rows * cols, dim_z).to(device) - 0.5\n",
        ") * 2  # encoding space: [-1,1)\n",
        "with torch.no_grad():\n",
        "    generations = model.Decoder(sample_encodings).cpu()\n",
        "    generations = generations.reshape(-1, 28, 28, 1)\n",
        "display_image_grid(generations, rows, cols, \"generated_images\")"
      ]
    },
    {
      "cell_type": "markdown",
      "metadata": {
        "id": "Zi16wGLUkWJa"
      },
      "source": [
        "The images aren't too fancy but we can see it's trying to learn.\n",
        "In a few images we can also guess the number it's trying to generate"
      ]
    },
    {
      "cell_type": "code",
      "execution_count": null,
      "metadata": {
        "id": "MXtat3dgXs-9"
      },
      "outputs": [],
      "source": []
    }
  ],
  "metadata": {
    "accelerator": "GPU",
    "colab": {
      "provenance": [],
      "include_colab_link": true
    },
    "gpuClass": "standard",
    "kernelspec": {
      "display_name": "Python 3",
      "name": "python3"
    },
    "language_info": {
      "name": "python"
    }
  },
  "nbformat": 4,
  "nbformat_minor": 0
}