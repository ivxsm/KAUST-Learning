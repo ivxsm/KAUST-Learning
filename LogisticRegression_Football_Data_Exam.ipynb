{
  "nbformat": 4,
  "nbformat_minor": 0,
  "metadata": {
    "colab": {
      "provenance": [],
      "include_colab_link": true
    },
    "kernelspec": {
      "name": "python3",
      "display_name": "Python 3"
    },
    "language_info": {
      "name": "python"
    }
  },
  "cells": [
    {
      "cell_type": "markdown",
      "metadata": {
        "id": "view-in-github",
        "colab_type": "text"
      },
      "source": [
        "<a href=\"https://colab.research.google.com/github/ivxsm/KAUST-Learning/blob/main/LogisticRegression_Football_Data_Exam.ipynb\" target=\"_parent\"><img src=\"https://colab.research.google.com/assets/colab-badge.svg\" alt=\"Open In Colab\"/></a>"
      ]
    },
    {
      "cell_type": "markdown",
      "source": [
        "## Task: Predict the outcome of a football match, based on historical match and player data.\n",
        "\n",
        "You are provided with football matches dataset. This dataset includes historical match outcomes, player statistics, and other relevant factors. Your objective is to develop a multiclass classification model that accurately predicts the result of a football match: \"home win\", \"away win\", or \"draw\".\n",
        "\n",
        "Your target is the column: \"Score\".\n",
        "\n",
        "You are provided with the code to download and load the csv file.\n",
        "\n",
        "Your work will be evaluated based on the completion of the following tasks:\n",
        "\n",
        "Tasks:\n",
        "> *  EDA & Preprocessing: You should check the following points and ADD COMMENTS about your findings:\n",
        ">   \n",
        ">    1- Imbalance.\n",
        ">    \n",
        ">    2- Missing values.\n",
        ">    \n",
        ">    3- Duplicates.\n",
        ">    \n",
        ">    4- Categorical values.\n",
        "> * Baseline: Create a majority class baseline.\n",
        "> * Build a ML model: Train and evaluate using K-Fold (K=5) without shuffling, and with F1 Score as the metric.\n",
        "> * Plot the features importance of your model.\n",
        "> * Performance: Achieve F1 Score ≥ 0.5\n",
        "> * (Bonus): Use \"VotingClassifier\" from sklearn with parameter voting=\"soft\" to combine more than one model together then print the score (Documentation: https://scikit-learn.org/stable/modules/generated/sklearn.ensemble.VotingClassifier.html)\n",
        "\n",
        "Note: You are allowed to use any models or libraries you want."
      ],
      "metadata": {
        "id": "EByq_eGZt5pb"
      }
    },
    {
      "cell_type": "code",
      "execution_count": null,
      "metadata": {
        "colab": {
          "base_uri": "https://localhost:8080/"
        },
        "id": "qBXKM7EIt5C6",
        "outputId": "f7909b2f-0952-43b9-de55-6eabbb8bf28d"
      },
      "outputs": [
        {
          "output_type": "stream",
          "name": "stderr",
          "text": [
            "Downloading...\n",
            "From: https://drive.google.com/uc?id=15R3R4O7CJdtnV8AhIDLYvtNoRtROf6dk\n",
            "To: /content/downloaded_file.csv\n",
            "100%|██████████| 122k/122k [00:00<00:00, 3.70MB/s]\n"
          ]
        }
      ],
      "source": [
        "import gdown\n",
        "import pandas as pd\n",
        "\n",
        "url = 'https://drive.google.com/file/d/15R3R4O7CJdtnV8AhIDLYvtNoRtROf6dk/view?usp=sharing'\n",
        "\n",
        "file_id = url.split('/')[-2]\n",
        "\n",
        "download_url = f'https://drive.google.com/uc?id={file_id}'\n",
        "\n",
        "output = 'downloaded_file.csv'\n",
        "gdown.download(download_url, output, quiet=False)\n",
        "\n",
        "df = pd.read_csv('downloaded_file.csv')"
      ]
    },
    {
      "cell_type": "code",
      "source": [],
      "metadata": {
        "id": "alKRoGsDwYAk"
      },
      "execution_count": null,
      "outputs": []
    },
    {
      "cell_type": "markdown",
      "source": [
        "Good luck in the exam x)\n",
        "\n",
        "Prepared by: Mohamed Eltayeb\n"
      ],
      "metadata": {
        "id": "du6eW9Lmwwy1"
      }
    }
  ]
}